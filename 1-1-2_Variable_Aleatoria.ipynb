{
 "cells": [
  {
   "cell_type": "markdown",
   "metadata": {},
   "source": [
    "## Importamos librerías a utilizar\n",
    "numpy, pyplot de matplotlib, Counter de collections"
   ]
  },
  {
   "cell_type": "code",
   "execution_count": 20,
   "metadata": {},
   "outputs": [],
   "source": [
    "import numpy as np\n",
    "from matplotlib import pyplot as plt\n",
    "from collections import Counter\n",
    "from probability_helper import plot_normalized_histogram"
   ]
  },
  {
   "cell_type": "markdown",
   "metadata": {},
   "source": [
    "## Cargamos datos"
   ]
  },
  {
   "cell_type": "code",
   "execution_count": 21,
   "metadata": {},
   "outputs": [],
   "source": [
    "moneda_1 = np.load('data/coin_1.npy')\n",
    "moneda_2 = np.load('data/coin_2.npy')\n",
    "moneda_3 = np.load('data/coin_3.npy')"
   ]
  },
  {
   "cell_type": "markdown",
   "metadata": {},
   "source": [
    "## Variable Aleatoria\n",
    "1. Mapeo de las posibles salidas de un experimento al eje real\n",
    "2. Se suelen representar con una letra mayúscula"
   ]
  },
  {
   "cell_type": "markdown",
   "metadata": {},
   "source": [
    "En nuestro ejemplo"
   ]
  },
  {
   "cell_type": "markdown",
   "metadata": {},
   "source": [
    "'cara' --> 1  \n",
    "'seca' --> 0"
   ]
  },
  {
   "cell_type": "markdown",
   "metadata": {},
   "source": [
    "Realizamos el mapeo en python:"
   ]
  },
  {
   "cell_type": "code",
   "execution_count": 22,
   "metadata": {},
   "outputs": [
    {
     "name": "stdout",
     "output_type": "stream",
     "text": [
      "Datos originales:\n",
      " ['seca' 'cara' 'cara' 'cara' 'cara' 'cara' 'cara' 'cara' 'cara' 'cara'\n",
      " 'seca' 'seca' 'cara' 'cara' 'seca' 'cara' 'seca' 'cara' 'cara' 'cara'\n",
      " 'cara' 'seca' 'cara' 'cara' 'cara' 'seca' 'cara' 'cara' 'cara' 'seca'\n",
      " 'cara' 'cara' 'cara' 'cara' 'cara' 'cara' 'cara' 'cara' 'cara' 'cara'\n",
      " 'cara' 'cara' 'cara' 'seca' 'seca' 'seca' 'cara' 'cara' 'seca' 'seca']\n",
      "Salidas mapeadas\n",
      " [0. 1. 1. 1. 1. 1. 1. 1. 1. 1. 0. 0. 1. 1. 0. 1. 0. 1. 1. 1. 1. 0. 1. 1.\n",
      " 1. 0. 1. 1. 1. 0. 1. 1. 1. 1. 1. 1. 1. 1. 1. 1. 1. 1. 1. 0. 0. 0. 1. 1.\n",
      " 0. 0.]\n"
     ]
    }
   ],
   "source": [
    "# Defino todos sus valores en 0 (seca)\n",
    "print('Datos originales:\\n', moneda_2[:50])\n",
    "moneda_2_bernoulli = np.zeros(len(moneda_2))\n",
    "# Asigno 1 en las posiciones de las caras\n",
    "moneda_2_bernoulli[moneda_2 == 'cara'] = 1\n",
    "# Veo los resultados del mapeo\n",
    "print('Salidas mapeadas\\n', moneda_2_bernoulli[:50])"
   ]
  },
  {
   "cell_type": "markdown",
   "metadata": {},
   "source": [
    "Si:  \n",
    "V.A $X_1$ describe el experimento de tirar la moneda_1  \n",
    "V.A $X_2$ describe el experimento de tirar la moneda_2  \n",
    "V.A $X_3$ describe el experimento de tirar la moneda_3  \n",
    "\n",
    "podemos inferir que las probabilidades de cada posible salida se puede estimar: \n",
    "\n",
    "$P(X_1 = 1) = 0.514 \\quad P(X_1 = 0) = 0.486$  \n",
    "$P(X_2 = 1) = 0.75 \\quad P(X_1 = 0) = 0.25$  \n",
    "$P(X_3 = 1) = 0.33 \\quad P(X_1 = 0) = 0.67$ "
   ]
  },
  {
   "cell_type": "code",
   "execution_count": 24,
   "metadata": {},
   "outputs": [
    {
     "data": {
      "image/png": "[encoded data removed]",
      "text/plain": [
       "<Figure size 432x288 with 1 Axes>"
      ]
     },
     "metadata": {},
     "output_type": "display_data"
    },
    {
     "data": {
      "text/plain": [
       "([0.0, 1.0], array([0.25, 0.75]))"
      ]
     },
     "execution_count": 24,
     "metadata": {},
     "output_type": "execute_result"
    }
   ],
   "source": [
    "plot_normalized_histogram(moneda_2_bernoulli)"
   ]
  },
  {
   "cell_type": "code",
   "execution_count": null,
   "metadata": {},
   "outputs": [],
   "source": []
  }
 ],
 "metadata": {
  "kernelspec": {
   "display_name": "Python 3",
   "language": "python",
   "name": "python3"
  },
  "language_info": {
   "codemirror_mode": {
    "name": "ipython",
    "version": 3
   },
   "file_extension": ".py",
   "mimetype": "text/x-python",
   "name": "python",
   "nbconvert_exporter": "python",
   "pygments_lexer": "ipython3",
   "version": "3.6.6"
  }
 },
 "nbformat": 4,
 "nbformat_minor": 2
}
