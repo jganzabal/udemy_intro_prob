{
 "cells": [
  {
   "cell_type": "code",
   "execution_count": 1,
   "metadata": {},
   "outputs": [],
   "source": [
    "# Estos dos comandos evitan que haya que hacer reload cada vez que se modifica un paquete\n",
    "%load_ext autoreload\n",
    "%autoreload 2"
   ]
  },
  {
   "cell_type": "markdown",
   "metadata": {},
   "source": [
    "# Machine learning:\n",
    "Construir modelos para predecir, generar o explorar datos"
   ]
  },
  {
   "cell_type": "markdown",
   "metadata": {},
   "source": [
    "El proceso de machine learning se puede representar con cuatro bloques:\n",
    "- Bloque 1: Los datos\n",
    "- Bloque 2: El modelo\n",
    "- Bloque 3: Inferencia o estimación de parámetros desconocidos (Tecnicas de optimización)\n",
    "- Bloque 4: Predicción, exploración (encontrar estructura), generación"
   ]
  },
  {
   "cell_type": "markdown",
   "metadata": {},
   "source": [
    "Dados los datos y definido el modelo queremos estimar los parámetros desconocidos del modelo para despues utilizar el modelo para predecir o generar datos."
   ]
  },
  {
   "cell_type": "markdown",
   "metadata": {},
   "source": [
    "La diferencia entre supervisado y no supervisado se puede entender por las diferencias entre el bloque 1 y el bloque 4. \n",
    "\n",
    "Supervisado:\n",
    "- Bloque 1: tiene datos anotados\n",
    "- Bloque 4: quiero predecir una salida en función de una entrada\n",
    "\n",
    "No supervisado:\n",
    "- Bloque 1: es un conjunto de datos no anotados\n",
    "- Bloque 4: Quiero estructurar los datos: Topicos en un conjunto de articulos. "
   ]
  },
  {
   "cell_type": "markdown",
   "metadata": {},
   "source": [
    "Tanto para aprendizaje supervisado como no supervisado tengo un modelo con parámetros desconocidos (bloque 2) y quiero inferir estos parámtros a través de algún algoritmo específico"
   ]
  },
  {
   "cell_type": "markdown",
   "metadata": {},
   "source": [
    "## Datos\n",
    "En esta sección utilizaremos los datos como excusa para definir algunos conceptos básicos de la probabilidad."
   ]
  },
  {
   "cell_type": "code",
   "execution_count": 1,
   "metadata": {},
   "outputs": [],
   "source": [
    "import pandas as pd\n",
    "import numpy as np"
   ]
  },
  {
   "cell_type": "code",
   "execution_count": 2,
   "metadata": {},
   "outputs": [],
   "source": [
    "df = pd.read_csv('alturas-pesos.csv')"
   ]
  },
  {
   "cell_type": "code",
   "execution_count": 3,
   "metadata": {},
   "outputs": [
    {
     "data": {
      "text/html": [
       "<div>\n",
       "<style scoped>\n",
       "    .dataframe tbody tr th:only-of-type {\n",
       "        vertical-align: middle;\n",
       "    }\n",
       "\n",
       "    .dataframe tbody tr th {\n",
       "        vertical-align: top;\n",
       "    }\n",
       "\n",
       "    .dataframe thead th {\n",
       "        text-align: right;\n",
       "    }\n",
       "</style>\n",
       "<table border=\"1\" class=\"dataframe\">\n",
       "  <thead>\n",
       "    <tr style=\"text-align: right;\">\n",
       "      <th></th>\n",
       "      <th>Peso</th>\n",
       "      <th>Altura</th>\n",
       "    </tr>\n",
       "  </thead>\n",
       "  <tbody>\n",
       "    <tr>\n",
       "      <th>count</th>\n",
       "      <td>10000.000000</td>\n",
       "      <td>10000.000000</td>\n",
       "    </tr>\n",
       "    <tr>\n",
       "      <th>mean</th>\n",
       "      <td>72.733900</td>\n",
       "      <td>168.073300</td>\n",
       "    </tr>\n",
       "    <tr>\n",
       "      <th>std</th>\n",
       "      <td>14.572204</td>\n",
       "      <td>9.775269</td>\n",
       "    </tr>\n",
       "    <tr>\n",
       "      <th>min</th>\n",
       "      <td>29.000000</td>\n",
       "      <td>137.000000</td>\n",
       "    </tr>\n",
       "    <tr>\n",
       "      <th>25%</th>\n",
       "      <td>61.000000</td>\n",
       "      <td>161.000000</td>\n",
       "    </tr>\n",
       "    <tr>\n",
       "      <th>50%</th>\n",
       "      <td>73.000000</td>\n",
       "      <td>168.000000</td>\n",
       "    </tr>\n",
       "    <tr>\n",
       "      <th>75%</th>\n",
       "      <td>84.000000</td>\n",
       "      <td>175.000000</td>\n",
       "    </tr>\n",
       "    <tr>\n",
       "      <th>max</th>\n",
       "      <td>122.000000</td>\n",
       "      <td>200.000000</td>\n",
       "    </tr>\n",
       "  </tbody>\n",
       "</table>\n",
       "</div>"
      ],
      "text/plain": [
       "               Peso        Altura\n",
       "count  10000.000000  10000.000000\n",
       "mean      72.733900    168.073300\n",
       "std       14.572204      9.775269\n",
       "min       29.000000    137.000000\n",
       "25%       61.000000    161.000000\n",
       "50%       73.000000    168.000000\n",
       "75%       84.000000    175.000000\n",
       "max      122.000000    200.000000"
      ]
     },
     "execution_count": 3,
     "metadata": {},
     "output_type": "execute_result"
    }
   ],
   "source": [
    "df.describe()"
   ]
  },
  {
   "cell_type": "code",
   "execution_count": 4,
   "metadata": {},
   "outputs": [
    {
     "data": {
      "text/html": [
       "<div>\n",
       "<style scoped>\n",
       "    .dataframe tbody tr th:only-of-type {\n",
       "        vertical-align: middle;\n",
       "    }\n",
       "\n",
       "    .dataframe tbody tr th {\n",
       "        vertical-align: top;\n",
       "    }\n",
       "\n",
       "    .dataframe thead th {\n",
       "        text-align: right;\n",
       "    }\n",
       "</style>\n",
       "<table border=\"1\" class=\"dataframe\">\n",
       "  <thead>\n",
       "    <tr style=\"text-align: right;\">\n",
       "      <th></th>\n",
       "      <th>Sexo</th>\n",
       "      <th>Peso</th>\n",
       "      <th>Altura</th>\n",
       "    </tr>\n",
       "  </thead>\n",
       "  <tbody>\n",
       "    <tr>\n",
       "      <th>0</th>\n",
       "      <td>Hombre</td>\n",
       "      <td>109</td>\n",
       "      <td>187</td>\n",
       "    </tr>\n",
       "    <tr>\n",
       "      <th>1</th>\n",
       "      <td>Hombre</td>\n",
       "      <td>73</td>\n",
       "      <td>174</td>\n",
       "    </tr>\n",
       "    <tr>\n",
       "      <th>2</th>\n",
       "      <td>Hombre</td>\n",
       "      <td>96</td>\n",
       "      <td>188</td>\n",
       "    </tr>\n",
       "    <tr>\n",
       "      <th>3</th>\n",
       "      <td>Hombre</td>\n",
       "      <td>99</td>\n",
       "      <td>182</td>\n",
       "    </tr>\n",
       "    <tr>\n",
       "      <th>4</th>\n",
       "      <td>Hombre</td>\n",
       "      <td>93</td>\n",
       "      <td>177</td>\n",
       "    </tr>\n",
       "  </tbody>\n",
       "</table>\n",
       "</div>"
      ],
      "text/plain": [
       "     Sexo  Peso  Altura\n",
       "0  Hombre   109     187\n",
       "1  Hombre    73     174\n",
       "2  Hombre    96     188\n",
       "3  Hombre    99     182\n",
       "4  Hombre    93     177"
      ]
     },
     "execution_count": 4,
     "metadata": {},
     "output_type": "execute_result"
    }
   ],
   "source": [
    "df[:5]"
   ]
  },
  {
   "cell_type": "code",
   "execution_count": 5,
   "metadata": {},
   "outputs": [
    {
     "data": {
      "text/html": [
       "<div>\n",
       "<style scoped>\n",
       "    .dataframe tbody tr th:only-of-type {\n",
       "        vertical-align: middle;\n",
       "    }\n",
       "\n",
       "    .dataframe tbody tr th {\n",
       "        vertical-align: top;\n",
       "    }\n",
       "\n",
       "    .dataframe thead th {\n",
       "        text-align: right;\n",
       "    }\n",
       "</style>\n",
       "<table border=\"1\" class=\"dataframe\">\n",
       "  <thead>\n",
       "    <tr style=\"text-align: right;\">\n",
       "      <th></th>\n",
       "      <th>Sexo</th>\n",
       "      <th>Peso</th>\n",
       "      <th>Altura</th>\n",
       "    </tr>\n",
       "  </thead>\n",
       "  <tbody>\n",
       "    <tr>\n",
       "      <th>9995</th>\n",
       "      <td>Mujer</td>\n",
       "      <td>62</td>\n",
       "      <td>168</td>\n",
       "    </tr>\n",
       "    <tr>\n",
       "      <th>9996</th>\n",
       "      <td>Mujer</td>\n",
       "      <td>77</td>\n",
       "      <td>170</td>\n",
       "    </tr>\n",
       "    <tr>\n",
       "      <th>9997</th>\n",
       "      <td>Mujer</td>\n",
       "      <td>58</td>\n",
       "      <td>162</td>\n",
       "    </tr>\n",
       "    <tr>\n",
       "      <th>9998</th>\n",
       "      <td>Mujer</td>\n",
       "      <td>74</td>\n",
       "      <td>175</td>\n",
       "    </tr>\n",
       "    <tr>\n",
       "      <th>9999</th>\n",
       "      <td>Mujer</td>\n",
       "      <td>51</td>\n",
       "      <td>157</td>\n",
       "    </tr>\n",
       "  </tbody>\n",
       "</table>\n",
       "</div>"
      ],
      "text/plain": [
       "       Sexo  Peso  Altura\n",
       "9995  Mujer    62     168\n",
       "9996  Mujer    77     170\n",
       "9997  Mujer    58     162\n",
       "9998  Mujer    74     175\n",
       "9999  Mujer    51     157"
      ]
     },
     "execution_count": 5,
     "metadata": {},
     "output_type": "execute_result"
    }
   ],
   "source": [
    "df[-5:]"
   ]
  },
  {
   "cell_type": "code",
   "execution_count": 6,
   "metadata": {},
   "outputs": [
    {
     "data": {
      "text/plain": [
       "10000"
      ]
     },
     "execution_count": 6,
     "metadata": {},
     "output_type": "execute_result"
    }
   ],
   "source": [
    "len(df)"
   ]
  },
  {
   "cell_type": "code",
   "execution_count": 7,
   "metadata": {},
   "outputs": [],
   "source": [
    "from matplotlib import pyplot as plt\n",
    "from collections import Counter"
   ]
  },
  {
   "cell_type": "markdown",
   "metadata": {},
   "source": [
    "### Frecuencia de Alturas"
   ]
  },
  {
   "cell_type": "code",
   "execution_count": 8,
   "metadata": {},
   "outputs": [
    {
     "name": "stdout",
     "output_type": "stream",
     "text": [
      "Counter({165: 385, 168: 376, 162: 364, 164: 363, 172: 357, 173: 356, 170: 354, 171: 354, 175: 342, 169: 340, 167: 334, 166: 326, 163: 325, 161: 321, 176: 315, 160: 308, 159: 303, 174: 293, 157: 275, 177: 273, 158: 273, 178: 249, 156: 236, 179: 232, 180: 224, 181: 214, 154: 188, 182: 187, 155: 179, 183: 168, 153: 143, 152: 123, 184: 108, 185: 94, 151: 86, 186: 82, 187: 70, 150: 67, 188: 61, 149: 57, 148: 49, 189: 35, 147: 30, 190: 26, 146: 25, 145: 19, 191: 18, 144: 16, 194: 15, 192: 14, 193: 9, 195: 8, 142: 8, 143: 6, 141: 4, 199: 3, 196: 3, 140: 2, 198: 1, 200: 1, 138: 1, 139: 1, 137: 1})\n"
     ]
    },
    {
     "data": {
      "image/png": "[encoded data removed]",
      "text/plain": [
       "<matplotlib.figure.Figure at 0x1079695c0>"
      ]
     },
     "metadata": {},
     "output_type": "display_data"
    }
   ],
   "source": [
    "alturas_frec = Counter(df['Altura'])\n",
    "print(alturas_frec)\n",
    "plt.bar(alturas_frec.keys(), alturas_frec.values())\n",
    "plt.show()"
   ]
  },
  {
   "cell_type": "markdown",
   "metadata": {},
   "source": [
    "### Definición de Probabilidad\n",
    "Existen diferentes formas de definir la probabilidad, a fines prácticos, vamos a definirla como la frecuencia una salida particular de un experimento sobre la cantidad veces que se realizó el experimento.\n",
    "\n",
    "Desde un punto de vista formal, la cantidad de veces que realizo el experimento debería tender a infinito para que este método converja a la probabilidad.\n",
    "\n",
    "Por eso siempre estaremos estimando la probabilidad y no calculando la probabilidad. (Muchas veces diremos \"calcular la probabilidad\", pero realimente estaremos estimándola)"
   ]
  },
  {
   "cell_type": "markdown",
   "metadata": {},
   "source": [
    "### Altura: Estimación de la probabilidad"
   ]
  },
  {
   "cell_type": "markdown",
   "metadata": {},
   "source": [
    "Cual es la estimación de la probabilidad de que una persona (mujer u hombre) mida 175cm?  \n",
    "\n",
    "$N_{a175}$ = Cantidad de hombres o mujeres que miden 175cm  \n",
    "$N_{Mujeres}$ = Cantidad de mujeres en el dataset   \n",
    "$N_{Hombres}$ = Cantidad de hombres en el dataset  \n",
    "\n",
    "\\begin{equation}\n",
    "P(Altura = 175cm) = \\frac{N_{a175}}{N_{Mujeres}+N_{Hombres}}\n",
    "\\end{equation}"
   ]
  },
  {
   "cell_type": "code",
   "execution_count": 9,
   "metadata": {},
   "outputs": [
    {
     "name": "stdout",
     "output_type": "stream",
     "text": [
      "Probabilidad: 0.0342\n"
     ]
    }
   ],
   "source": [
    "P_A_175 = alturas_frec[175]/len(df)\n",
    "print('Probabilidad:',P_A_175)"
   ]
  },
  {
   "cell_type": "markdown",
   "metadata": {},
   "source": [
    "### Notación:\n",
    "$X_A$ es la variable aleatoria que puede tomar cualquier valor $x_{A_i}$\n",
    "\n",
    "\\begin{equation}\n",
    "P(X_A = x_{A_i})\n",
    "\\end{equation}\n",
    "\n",
    "En nuestro ejemplo la altura es nuestra variable aleatoria $X_A$ y 175 es nuestro valor $x_{A_i}$"
   ]
  },
  {
   "cell_type": "markdown",
   "metadata": {},
   "source": [
    "### Distribución de probabilidad"
   ]
  },
  {
   "cell_type": "code",
   "execution_count": 44,
   "metadata": {},
   "outputs": [
    {
     "data": {
      "image/png": "[encoded data removed]",
      "text/plain": [
       "<matplotlib.figure.Figure at 0x114af4828>"
      ]
     },
     "metadata": {},
     "output_type": "display_data"
    }
   ],
   "source": [
    "frec_alturas = np.array(list(alturas_frec.values()))\n",
    "P_alturas = frec_alturas / (N_mujeres + N_hombres)\n",
    "plt.bar(alturas_frec.keys(), P_alturas)\n",
    "plt.show()"
   ]
  },
  {
   "cell_type": "code",
   "execution_count": 112,
   "metadata": {},
   "outputs": [
    {
     "data": {
      "text/plain": [
       "(168.07329999999999, 9.7752689322734163)"
      ]
     },
     "execution_count": 112,
     "metadata": {},
     "output_type": "execute_result"
    }
   ],
   "source": [
    "df['Altura'].mean(), df['Altura'].std()"
   ]
  },
  {
   "cell_type": "code",
   "execution_count": 56,
   "metadata": {},
   "outputs": [
    {
     "data": {
      "text/plain": [
       "137"
      ]
     },
     "execution_count": 56,
     "metadata": {},
     "output_type": "execute_result"
    }
   ],
   "source": [
    "df['Altura'].min()"
   ]
  },
  {
   "cell_type": "code",
   "execution_count": 48,
   "metadata": {},
   "outputs": [],
   "source": [
    "from scipy.stats import norm"
   ]
  },
  {
   "cell_type": "code",
   "execution_count": 65,
   "metadata": {},
   "outputs": [],
   "source": [
    "rango_alturas = np.linspace(df['Altura'].min(), df['Altura'].max(), 100)"
   ]
  },
  {
   "cell_type": "code",
   "execution_count": 118,
   "metadata": {},
   "outputs": [
    {
     "data": {
      "image/png": "[encoded data removed]",
      "text/plain": [
       "<matplotlib.figure.Figure at 0x1173eb2e8>"
      ]
     },
     "metadata": {},
     "output_type": "display_data"
    }
   ],
   "source": [
    "plt.plot(rango_alturas, norm.pdf(rango_alturas, df['Altura'].mean(), df['Altura'].std()), color='r')\n",
    "plt.bar(alturas_frec.keys(), P_alturas, color='b')\n",
    "plt.show()"
   ]
  },
  {
   "cell_type": "code",
   "execution_count": 98,
   "metadata": {},
   "outputs": [],
   "source": [
    "def get_MSE(mean, std, verbose=0):\n",
    "    error_cuadratico_accum = 0\n",
    "    for a, f in alturas_frec.items():\n",
    "        p_est = f/len(df)\n",
    "        p_est_gauss = norm.pdf(a, mean, std)\n",
    "        error_cuadratico = (p_est - p_est_gauss)**2\n",
    "        error_cuadratico_accum = error_cuadratico_accum + error_cuadratico\n",
    "        if verbose:\n",
    "            print(a, f/len(df), p_est_gauss, error_cuadratico)\n",
    "    return error_cuadratico_accum/len(df)"
   ]
  },
  {
   "cell_type": "code",
   "execution_count": 108,
   "metadata": {},
   "outputs": [
    {
     "data": {
      "image/png": "[encoded data removed]",
      "text/plain": [
       "<matplotlib.figure.Figure at 0x114180128>"
      ]
     },
     "metadata": {},
     "output_type": "display_data"
    }
   ],
   "source": [
    "medias = np.linspace(150, 190, 100)\n",
    "mses = [get_MSE(m, df['Altura'].std()) for m in medias]\n",
    "plt.plot(medias, mses)\n",
    "plt.axvline(df['Altura'].mean(), color='r')\n",
    "plt.show()"
   ]
  },
  {
   "cell_type": "code",
   "execution_count": 117,
   "metadata": {},
   "outputs": [
    {
     "data": {
      "image/png": "[encoded data removed]",
      "text/plain": [
       "<matplotlib.figure.Figure at 0x11743c7b8>"
      ]
     },
     "metadata": {},
     "output_type": "display_data"
    }
   ],
   "source": [
    "stds = np.linspace(1, 25, 100)\n",
    "mses = [get_MSE(df['Altura'].mean(), s) for s in stds]\n",
    "plt.plot(stds, mses)\n",
    "plt.axvline(df['Altura'].std(), color='r')\n",
    "plt.show()"
   ]
  },
  {
   "cell_type": "code",
   "execution_count": null,
   "metadata": {},
   "outputs": [],
   "source": []
  },
  {
   "cell_type": "markdown",
   "metadata": {},
   "source": [
    "### Peso: Estimación de la probabilidad"
   ]
  },
  {
   "cell_type": "code",
   "execution_count": 10,
   "metadata": {},
   "outputs": [
    {
     "name": "stdout",
     "output_type": "stream",
     "text": [
      "Counter({62: 265, 64: 247, 79: 242, 84: 237, 82: 237, 63: 237, 87: 235, 60: 235, 85: 232, 59: 231, 80: 227, 61: 226, 66: 225, 65: 225, 83: 214, 58: 212, 56: 211, 73: 207, 68: 207, 78: 204, 67: 204, 76: 202, 88: 201, 89: 201, 81: 200, 69: 199, 74: 199, 75: 197, 90: 196, 71: 194, 70: 191, 57: 191, 72: 185, 77: 185, 86: 182, 55: 178, 92: 165, 91: 160, 93: 152, 54: 151, 53: 150, 52: 128, 94: 126, 95: 116, 51: 116, 50: 110, 96: 98, 49: 85, 48: 74, 97: 71, 98: 70, 46: 68, 99: 54, 47: 51, 100: 43, 101: 43, 45: 40, 44: 35, 103: 31, 43: 28, 102: 24, 104: 21, 41: 20, 42: 17, 105: 15, 40: 11, 109: 10, 107: 7, 38: 7, 39: 6, 108: 5, 106: 4, 35: 4, 115: 3, 113: 3, 112: 3, 111: 2, 114: 2, 32: 2, 37: 2, 116: 1, 122: 1, 110: 1, 31: 1, 36: 1, 29: 1})\n"
     ]
    },
    {
     "data": {
      "image/png": "[encoded data removed]",
      "text/plain": [
       "<matplotlib.figure.Figure at 0x10c013860>"
      ]
     },
     "metadata": {},
     "output_type": "display_data"
    }
   ],
   "source": [
    "pesos_frec = Counter(df['Peso'])\n",
    "print(pesos_frec)\n",
    "plt.bar(pesos_frec.keys(), pesos_frec.values())\n",
    "plt.show()"
   ]
  },
  {
   "cell_type": "markdown",
   "metadata": {},
   "source": [
    "Cual es la estimación de la probabilidad de que una persona (mujer u hombre) pese 60kg?  \n",
    "\n",
    "$X_P$: Es la variable aleatoria que representa a la distribución de los pesos  \n",
    "$N_{p60}$: Cantidad de hombres o mujeres que pesan 60kg   \n",
    "$N_{Mujeres}$: Cantidad de mujeres en el dataset   \n",
    "$N_{Hombres}$: Cantidad de hombres en el dataset  \n",
    "\n",
    "\\begin{equation}\n",
    "P(X_P = 60) = \\frac{N_{p60}}{N_{Mujeres}+N_{Hombres}}\n",
    "\\end{equation}"
   ]
  },
  {
   "cell_type": "code",
   "execution_count": 11,
   "metadata": {},
   "outputs": [
    {
     "name": "stdout",
     "output_type": "stream",
     "text": [
      "Probabilidad: 0.0235\n"
     ]
    }
   ],
   "source": [
    "P_P_60 = pesos_frec[60]/len(df)\n",
    "print('Probabilidad:',P_P_60)"
   ]
  },
  {
   "cell_type": "markdown",
   "metadata": {},
   "source": [
    "### Probabilidad condicional"
   ]
  },
  {
   "cell_type": "markdown",
   "metadata": {},
   "source": [
    "En muchos casos cuando analizamos los datos, nos interesa dividir los datos de alguna forma.\n",
    "\n",
    "Dividiremos en mediciones de hombres y mujeres"
   ]
  },
  {
   "cell_type": "code",
   "execution_count": 12,
   "metadata": {},
   "outputs": [],
   "source": [
    "indices_hombres = df['Sexo'] == 'Hombre'\n",
    "indices_mujeres = df['Sexo'] == 'Mujer'"
   ]
  },
  {
   "cell_type": "code",
   "execution_count": 13,
   "metadata": {},
   "outputs": [],
   "source": [
    "alturas_hombres = np.array(df.loc[indices_hombres, 'Altura'])\n",
    "alturas_mujeres = np.array(df.loc[indices_mujeres, 'Altura'])\n",
    "pesos_hombres = np.array(df.loc[indices_hombres, 'Peso'])\n",
    "pesos_mujeres = np.array(df.loc[indices_mujeres, 'Peso'])"
   ]
  },
  {
   "cell_type": "code",
   "execution_count": 14,
   "metadata": {},
   "outputs": [],
   "source": [
    "N_hombres = indices_hombres.sum()\n",
    "N_mujeres = indices_mujeres.sum()"
   ]
  },
  {
   "cell_type": "code",
   "execution_count": 15,
   "metadata": {},
   "outputs": [
    {
     "name": "stdout",
     "output_type": "stream",
     "text": [
      "Counter({175: 302, 173: 286, 176: 277, 172: 269, 177: 254, 171: 246, 174: 244, 178: 232, 170: 226, 180: 220, 179: 218, 181: 211, 182: 186, 169: 180, 168: 166, 183: 165, 167: 145, 165: 124, 166: 117, 184: 108, 164: 95, 185: 94, 186: 81, 187: 70, 188: 61, 162: 56, 161: 52, 163: 52, 189: 35, 160: 29, 190: 26, 158: 23, 159: 21, 191: 18, 157: 15, 194: 15, 192: 14, 156: 14, 193: 9, 154: 9, 195: 8, 155: 8, 153: 5, 152: 4, 199: 3, 196: 3, 198: 1, 200: 1, 150: 1, 148: 1})\n"
     ]
    },
    {
     "data": {
      "image/png": "[encoded data removed]",
      "text/plain": [
       "<matplotlib.figure.Figure at 0x10acfa588>"
      ]
     },
     "metadata": {},
     "output_type": "display_data"
    }
   ],
   "source": [
    "frec_alturas_H = Counter(alturas_hombres)\n",
    "print(frec_alturas_H)\n",
    "plt.bar(frec_alturas_H.keys(), frec_alturas_H.values())\n",
    "plt.show()"
   ]
  },
  {
   "cell_type": "markdown",
   "metadata": {},
   "source": [
    "\\begin{equation}\n",
    "P(X_A = 175 \\ |\\ Hombre) = \\frac{N_{Ha175}}{N_{Hombres}}\n",
    "\\end{equation}"
   ]
  },
  {
   "cell_type": "code",
   "execution_count": 16,
   "metadata": {},
   "outputs": [
    {
     "data": {
      "text/plain": [
       "0.060400000000000002"
      ]
     },
     "execution_count": 16,
     "metadata": {},
     "output_type": "execute_result"
    }
   ],
   "source": [
    "frec_alturas_H[175]/ N_hombres"
   ]
  },
  {
   "cell_type": "code",
   "execution_count": 17,
   "metadata": {},
   "outputs": [
    {
     "name": "stdout",
     "output_type": "stream",
     "text": [
      "Counter({162: 308, 159: 282, 160: 279, 163: 273, 161: 269, 164: 268, 165: 261, 157: 260, 158: 250, 156: 222, 168: 210, 166: 209, 167: 189, 154: 179, 155: 171, 169: 160, 153: 138, 170: 128, 152: 119, 171: 108, 172: 88, 151: 86, 173: 70, 150: 66, 149: 57, 174: 49, 148: 48, 175: 40, 176: 38, 147: 30, 146: 25, 177: 19, 145: 19, 178: 17, 144: 16, 179: 14, 142: 8, 143: 6, 141: 4, 180: 4, 181: 3, 183: 3, 140: 2, 182: 1, 138: 1, 139: 1, 186: 1, 137: 1})\n"
     ]
    },
    {
     "data": {
      "image/png": "[encoded data removed]",
      "text/plain": [
       "<matplotlib.figure.Figure at 0x113ef9e48>"
      ]
     },
     "metadata": {},
     "output_type": "display_data"
    }
   ],
   "source": [
    "frec_alturas_M = Counter(alturas_mujeres)\n",
    "print(frec_alturas_M)\n",
    "plt.bar(frec_alturas_M.keys(), frec_alturas_M.values())\n",
    "plt.show()"
   ]
  },
  {
   "cell_type": "markdown",
   "metadata": {},
   "source": [
    "\\begin{equation}\n",
    "P(X_A = 175 \\ |\\ Mujer) = \\frac{N_{Ma175}}{N_{Mujeres}}\n",
    "\\end{equation}"
   ]
  },
  {
   "cell_type": "code",
   "execution_count": 18,
   "metadata": {},
   "outputs": [
    {
     "data": {
      "text/plain": [
       "0.0080000000000000002"
      ]
     },
     "execution_count": 18,
     "metadata": {},
     "output_type": "execute_result"
    }
   ],
   "source": [
    "frec_alturas_M[175]/ N_mujeres"
   ]
  },
  {
   "cell_type": "markdown",
   "metadata": {},
   "source": [
    "Notar que la probabilidad de que la altura sea 175 es mayor en el hombre que en la mujer como era de esperar intuitivamente"
   ]
  },
  {
   "cell_type": "code",
   "execution_count": 19,
   "metadata": {},
   "outputs": [
    {
     "name": "stdout",
     "output_type": "stream",
     "text": [
      "Counter({84: 232, 87: 230, 85: 227, 82: 223, 79: 210, 80: 206, 83: 205, 89: 201, 88: 197, 90: 196, 81: 185, 86: 181, 78: 172, 92: 165, 91: 159, 77: 154, 93: 152, 76: 145, 75: 136, 94: 126, 74: 116, 95: 116, 73: 100, 96: 98, 71: 82, 72: 78, 97: 71, 98: 70, 70: 57, 99: 54, 69: 51, 100: 43, 101: 43, 68: 33, 67: 31, 103: 31, 66: 31, 102: 24, 63: 22, 104: 21, 65: 18, 105: 15, 61: 13, 64: 11, 109: 10, 107: 7, 62: 7, 108: 5, 106: 4, 58: 4, 59: 4, 115: 3, 60: 3, 113: 3, 112: 3, 56: 2, 111: 2, 114: 2, 55: 2, 57: 2, 116: 1, 51: 1, 122: 1, 54: 1, 110: 1, 53: 1})\n"
     ]
    },
    {
     "data": {
      "image/png": "[encoded data removed]",
      "text/plain": [
       "<matplotlib.figure.Figure at 0x114192ac8>"
      ]
     },
     "metadata": {},
     "output_type": "display_data"
    }
   ],
   "source": [
    "frec_pesos_H = Counter(pesos_hombres)\n",
    "print(frec_pesos_H)\n",
    "plt.bar(frec_pesos_H.keys(), frec_pesos_H.values())\n",
    "plt.show()"
   ]
  },
  {
   "cell_type": "markdown",
   "metadata": {},
   "source": [
    "\\begin{equation}\n",
    "P(X_P = 65 \\ |\\ Hombre) = \\frac{N_{Hp65}}{N_{Hombres}}\n",
    "\\end{equation}"
   ]
  },
  {
   "cell_type": "code",
   "execution_count": 20,
   "metadata": {},
   "outputs": [
    {
     "data": {
      "text/plain": [
       "0.0035999999999999999"
      ]
     },
     "execution_count": 20,
     "metadata": {},
     "output_type": "execute_result"
    }
   ],
   "source": [
    "frec_pesos_H[65]/ N_hombres"
   ]
  },
  {
   "cell_type": "code",
   "execution_count": 21,
   "metadata": {},
   "outputs": [
    {
     "name": "stdout",
     "output_type": "stream",
     "text": [
      "Counter({62: 258, 64: 236, 60: 232, 59: 227, 63: 215, 61: 213, 56: 209, 58: 208, 65: 207, 66: 194, 57: 189, 55: 176, 68: 174, 67: 173, 54: 150, 53: 149, 69: 148, 70: 134, 52: 128, 51: 115, 71: 112, 50: 110, 72: 107, 73: 107, 49: 85, 74: 83, 48: 74, 46: 68, 75: 61, 76: 57, 47: 51, 45: 40, 44: 35, 79: 32, 78: 32, 77: 31, 43: 28, 80: 21, 41: 20, 42: 17, 81: 15, 82: 14, 40: 11, 83: 9, 38: 7, 39: 6, 85: 5, 84: 5, 87: 5, 88: 4, 35: 4, 32: 2, 37: 2, 31: 1, 36: 1, 86: 1, 29: 1, 91: 1})\n"
     ]
    },
    {
     "data": {
      "image/png": "[encoded data removed]",
      "text/plain": [
       "<matplotlib.figure.Figure at 0x113fcc3c8>"
      ]
     },
     "metadata": {},
     "output_type": "display_data"
    }
   ],
   "source": [
    "frec_pesos_M = Counter(pesos_mujeres)\n",
    "print(frec_pesos_M)\n",
    "plt.bar(frec_pesos_M.keys(), frec_pesos_M.values())\n",
    "plt.show()"
   ]
  },
  {
   "cell_type": "markdown",
   "metadata": {},
   "source": [
    "\\begin{equation}\n",
    "P(X_P = 65 \\ |\\ Mujer) = \\frac{N_{Mp65}}{N_{Mujeres}}\n",
    "\\end{equation}"
   ]
  },
  {
   "cell_type": "code",
   "execution_count": 22,
   "metadata": {},
   "outputs": [
    {
     "data": {
      "text/plain": [
       "0.041399999999999999"
      ]
     },
     "execution_count": 22,
     "metadata": {},
     "output_type": "execute_result"
    }
   ],
   "source": [
    "frec_pesos_M[65]/ N_mujeres"
   ]
  },
  {
   "cell_type": "markdown",
   "metadata": {},
   "source": [
    "### Probabilidad Conjunta"
   ]
  },
  {
   "cell_type": "markdown",
   "metadata": {},
   "source": [
    "Espacio muestral de peso y altura"
   ]
  },
  {
   "cell_type": "code",
   "execution_count": 23,
   "metadata": {},
   "outputs": [],
   "source": [
    "frec_conjunta_H = Counter([(p, alturas_hombres[i]) for i, p in enumerate(pesos_hombres)])\n",
    "conjunta_H = np.zeros([max(pesos_hombres) - min(pesos_hombres) + 1, max(alturas_hombres)-min(alturas_hombres) + 1])\n",
    "for (p,a), f in frec_conjunta_H.items():\n",
    "    conjunta_H[p-min(pesos_hombres), a- min(alturas_hombres)] = f"
   ]
  },
  {
   "cell_type": "code",
   "execution_count": 24,
   "metadata": {},
   "outputs": [
    {
     "data": {
      "image/png": "[encoded data removed]",
      "text/plain": [
       "<matplotlib.figure.Figure at 0x1141adc50>"
      ]
     },
     "metadata": {},
     "output_type": "display_data"
    }
   ],
   "source": [
    "from helper import plot_joint_hists\n",
    "plot_joint_hists(conjunta_H, frec_alturas_H, frec_pesos_H)"
   ]
  },
  {
   "cell_type": "markdown",
   "metadata": {},
   "source": [
    "Dada la conjunta puedo obtener las marginales y las condicionales"
   ]
  },
  {
   "cell_type": "code",
   "execution_count": 25,
   "metadata": {},
   "outputs": [],
   "source": [
    "# Supongamos que quiero obtener la probabildad de que el peso sea 80\n",
    "f_80 = 0\n",
    "for (p,a), f in frec_conjunta_H.items():\n",
    "    # Recorro toda la conjunta\n",
    "    if p == 80:\n",
    "        # Si el peso es 80 sumo la cantidad, independientemente de la altura\n",
    "        f_80 = f_80 + f"
   ]
  },
  {
   "cell_type": "code",
   "execution_count": 26,
   "metadata": {},
   "outputs": [
    {
     "data": {
      "text/plain": [
       "0.041200000000000001"
      ]
     },
     "execution_count": 26,
     "metadata": {},
     "output_type": "execute_result"
    }
   ],
   "source": [
    "# Si a la frecuencia la divido por la cantidad obtengo la probabilidad\n",
    "f_80 / N_hombres"
   ]
  },
  {
   "cell_type": "code",
   "execution_count": 27,
   "metadata": {},
   "outputs": [],
   "source": [
    "# Si queremos obtener ahora la condicional: La distribución de alturas dado que el peso es 80\n",
    "f_a_80 = {}\n",
    "for (p,a), f in frec_conjunta_H.items():\n",
    "    # Recorro toda la conjunta\n",
    "    if p == 80:\n",
    "        if a not in f_a_80:\n",
    "            f_a_80[a] = 0\n",
    "        # Si el peso es 80 sumo la cantidad, independientemente de la altura\n",
    "        f_a_80[a] = f_a_80[a] + f"
   ]
  },
  {
   "cell_type": "code",
   "execution_count": 28,
   "metadata": {},
   "outputs": [
    {
     "data": {
      "text/plain": [
       "{163: 1,\n",
       " 164: 5,\n",
       " 165: 6,\n",
       " 166: 7,\n",
       " 167: 8,\n",
       " 168: 8,\n",
       " 169: 11,\n",
       " 170: 23,\n",
       " 171: 23,\n",
       " 172: 25,\n",
       " 173: 19,\n",
       " 174: 18,\n",
       " 175: 20,\n",
       " 176: 11,\n",
       " 177: 11,\n",
       " 178: 3,\n",
       " 179: 3,\n",
       " 180: 2,\n",
       " 181: 2}"
      ]
     },
     "execution_count": 28,
     "metadata": {},
     "output_type": "execute_result"
    }
   ],
   "source": [
    "f_a_80"
   ]
  },
  {
   "cell_type": "code",
   "execution_count": 29,
   "metadata": {},
   "outputs": [],
   "source": [
    "# Estricamente hablando es la condicional dado que es hombre y dado que el peso vale 80"
   ]
  },
  {
   "cell_type": "code",
   "execution_count": null,
   "metadata": {},
   "outputs": [],
   "source": []
  },
  {
   "cell_type": "code",
   "execution_count": 30,
   "metadata": {},
   "outputs": [
    {
     "data": {
      "text/plain": [
       "0.0024884800000000004"
      ]
     },
     "execution_count": 30,
     "metadata": {},
     "output_type": "execute_result"
    }
   ],
   "source": [
    "frec_pesos_H[80]/N_hombres * frec_alturas_H[175]/N_hombres"
   ]
  },
  {
   "cell_type": "code",
   "execution_count": 31,
   "metadata": {},
   "outputs": [
    {
     "data": {
      "text/plain": [
       "302"
      ]
     },
     "execution_count": 31,
     "metadata": {},
     "output_type": "execute_result"
    }
   ],
   "source": [
    "frec_alturas_H[175]"
   ]
  },
  {
   "cell_type": "markdown",
   "metadata": {},
   "source": [
    "\\begin{equation}\n",
    "P(X_P = 80, X_A = 175) = P(X_P = 80 \\ |\\  X_A = 175) P(X_A = 175)\n",
    "\\end{equation}\n",
    "\n",
    "Notar que $P(X_P = 80 \\ |\\  X_A = 175)$ es frec_conjunta_H[(80, 175)] pero dividido por la frecuencia de alturas en 175.\n",
    "\n",
    "La probabilidad conjunta seria frec_conjunta_H[(80, 175)] dividido por el total de hombres\n",
    "\n",
    "\\begin{equation}\n",
    "P(X_P = 80, X_A = 175) = \\frac{N_{p80, a75}}{N_{a175}} \\frac{N_{a175}}{N}\n",
    "\\end{equation}\n"
   ]
  },
  {
   "cell_type": "code",
   "execution_count": null,
   "metadata": {},
   "outputs": [],
   "source": []
  },
  {
   "cell_type": "code",
   "execution_count": 32,
   "metadata": {},
   "outputs": [
    {
     "data": {
      "text/plain": [
       "0.06622516556291391"
      ]
     },
     "execution_count": 32,
     "metadata": {},
     "output_type": "execute_result"
    }
   ],
   "source": [
    "frec_conjunta_H[(80, 175)]/frec_alturas_H[175]"
   ]
  },
  {
   "cell_type": "code",
   "execution_count": 33,
   "metadata": {},
   "outputs": [
    {
     "data": {
      "text/plain": [
       "0.0040000000000000001"
      ]
     },
     "execution_count": 33,
     "metadata": {},
     "output_type": "execute_result"
    }
   ],
   "source": [
    "(pesos_hombres[alturas_hombres == 175] == 80).sum()/frec_alturas_H[175] * frec_alturas_H[175]/N_hombres"
   ]
  },
  {
   "cell_type": "code",
   "execution_count": 34,
   "metadata": {},
   "outputs": [
    {
     "data": {
      "text/plain": [
       "0.041200000000000001"
      ]
     },
     "execution_count": 34,
     "metadata": {},
     "output_type": "execute_result"
    }
   ],
   "source": [
    "frec_pesos_H[80]/frec_alturas_H[175] * frec_alturas_H[175]/N_hombres"
   ]
  },
  {
   "cell_type": "code",
   "execution_count": 35,
   "metadata": {},
   "outputs": [
    {
     "data": {
      "text/plain": [
       "23"
      ]
     },
     "execution_count": 35,
     "metadata": {},
     "output_type": "execute_result"
    }
   ],
   "source": [
    "\n",
    "frec_conjunta_H[(80, 170)]"
   ]
  },
  {
   "cell_type": "code",
   "execution_count": 36,
   "metadata": {},
   "outputs": [],
   "source": [
    "frec_conjunta_M = Counter([(p, alturas_mujeres[i]) for i, p in enumerate(pesos_mujeres)])\n",
    "conjunta_M = np.zeros([max(pesos_mujeres) - min(pesos_mujeres) + 1, \n",
    "                       max(alturas_mujeres)-min(alturas_mujeres) + 1])\n",
    "for (p,a), f in frec_conjunta_M.items():\n",
    "    conjunta_M[p-min(pesos_mujeres), a- min(alturas_mujeres)] = f"
   ]
  },
  {
   "cell_type": "code",
   "execution_count": 37,
   "metadata": {},
   "outputs": [
    {
     "data": {
      "image/png": "[encoded data removed]",
      "text/plain": [
       "<matplotlib.figure.Figure at 0x1146aeb38>"
      ]
     },
     "metadata": {},
     "output_type": "display_data"
    }
   ],
   "source": [
    "plot_joint_hists(conjunta_M, frec_alturas_M, frec_pesos_M)"
   ]
  },
  {
   "cell_type": "code",
   "execution_count": null,
   "metadata": {},
   "outputs": [],
   "source": []
  },
  {
   "cell_type": "markdown",
   "metadata": {},
   "source": [
    "## Que es un modelo?"
   ]
  },
  {
   "cell_type": "code",
   "execution_count": null,
   "metadata": {},
   "outputs": [],
   "source": []
  }
 ],
 "metadata": {
  "kernelspec": {
   "display_name": "Python 3",
   "language": "python",
   "name": "python3"
  },
  "language_info": {
   "codemirror_mode": {
    "name": "ipython",
    "version": 3
   },
   "file_extension": ".py",
   "mimetype": "text/x-python",
   "name": "python",
   "nbconvert_exporter": "python",
   "pygments_lexer": "ipython3",
   "version": "3.6.2"
  }
 },
 "nbformat": 4,
 "nbformat_minor": 2
}
