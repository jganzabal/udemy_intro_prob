{
 "cells": [
  {
   "cell_type": "markdown",
   "metadata": {},
   "source": [
    "# Distribución de Bernoulli\n",
    "La probabilidad estimada de los datos"
   ]
  },
  {
   "cell_type": "code",
   "execution_count": 1,
   "metadata": {},
   "outputs": [],
   "source": [
    "import numpy as np\n",
    "from matplotlib import pyplot as plt"
   ]
  },
  {
   "cell_type": "code",
   "execution_count": 4,
   "metadata": {},
   "outputs": [],
   "source": [
    "moneda_1 = np.load('data/coin_1.npy')\n",
    "moneda_2 = np.load('data/coin_2.npy')\n",
    "moneda_3 = np.load('data/coin_3.npy')"
   ]
  },
  {
   "cell_type": "code",
   "execution_count": 5,
   "metadata": {},
   "outputs": [],
   "source": [
    "moneda_1_bernoulli = np.zeros(len(moneda_1))\n",
    "moneda_1_bernoulli[moneda_1 == 'cara'] = 1\n",
    "\n",
    "moneda_2_bernoulli = np.zeros(len(moneda_2))\n",
    "moneda_2_bernoulli[moneda_2 == 'cara'] = 1\n",
    "\n",
    "moneda_3_bernoulli = np.zeros(len(moneda_3))\n",
    "moneda_3_bernoulli[moneda_3 == 'cara'] = 1"
   ]
  },
  {
   "cell_type": "code",
   "execution_count": 6,
   "metadata": {},
   "outputs": [
    {
     "name": "stdout",
     "output_type": "stream",
     "text": [
      "['seca' 'cara' 'cara' 'cara' 'cara' 'seca' 'seca' 'seca' 'seca' 'cara']\n"
     ]
    },
    {
     "data": {
      "text/plain": [
       "array([ 0.,  1.,  1.,  1.,  1.,  0.,  0.,  0.,  0.,  1.])"
      ]
     },
     "execution_count": 6,
     "metadata": {},
     "output_type": "execute_result"
    }
   ],
   "source": [
    "print(moneda_1[:10])\n",
    "moneda_1_bernoulli[:10]"
   ]
  },
  {
   "cell_type": "markdown",
   "metadata": {},
   "source": [
    "## Distribución de Bernoulli\n",
    "- Su espacio muestral es binario. (Toma solo dos estados posibles)\n",
    "- Normalmente 1 o 0 (a veces 1 y -1)\n",
    "- Parámetro a estimar $p$: La probabilidad de que el resultado del experimento sea 1\n",
    "\n",
    "Escrito formalmente:\n",
    "\n",
    "$P(X = 1) = p$  \n",
    "$P(X = 0) = 1-p = q$"
   ]
  },
  {
   "cell_type": "markdown",
   "metadata": {},
   "source": [
    "Media (Esperanza - Valor esperado):\n",
    "\n",
    "$x_i = [0, 1]$\n",
    "\\begin{equation}\n",
    "\\large\n",
    "\\mu_X = \\sum_i{x_iP(X=x_i)} = 1 p + 0 (1-p) = p\n",
    "\\end{equation}\n",
    "\n",
    "Varianza:\n",
    "\\begin{equation}\n",
    "\\large\n",
    "\\sigma_X^2 = \\sum_i{(x_i-\\mu_X)^2P(X=x_i)} = (1-p)^2 p + (0 - p)^2 (1-p) = p (1-p) = pq\n",
    "\\end{equation}\n",
    "\n",
    "Desvio estandar:\n",
    "\n",
    "$\\sigma_x = \\sqrt{p (1-p)}$"
   ]
  },
  {
   "cell_type": "markdown",
   "metadata": {},
   "source": [
    "Ejemplo:"
   ]
  },
  {
   "cell_type": "code",
   "execution_count": 10,
   "metadata": {},
   "outputs": [
    {
     "data": {
      "text/plain": [
       "[]"
      ]
     },
     "execution_count": 10,
     "metadata": {},
     "output_type": "execute_result"
    },
    {
     "data": {
      "image/png": "[encoded data removed]",
      "text/plain": [
       "<matplotlib.figure.Figure at 0x110606dd8>"
      ]
     },
     "metadata": {},
     "output_type": "display_data"
    }
   ],
   "source": [
    "p = 0.99\n",
    "plt.stem([0, 1], [1-p, p])\n",
    "std = np.sqrt(p*(1-p))\n",
    "plt.vlines(p, -0.1, 1)\n",
    "plt.hlines(0.5, p + std, p - std, lw = 20, alpha = 0.1)\n",
    "plt.plot()"
   ]
  },
  {
   "cell_type": "markdown",
   "metadata": {},
   "source": [
    "Que varianza tiene una constante? Es decir algo que no es aleatorio"
   ]
  },
  {
   "cell_type": "markdown",
   "metadata": {},
   "source": [
    "## Modelo de Bernoulli para monedas"
   ]
  },
  {
   "cell_type": "markdown",
   "metadata": {},
   "source": [
    "Vamos a suponer que nuestros datos provienen de 3 modelos de Bernoulli diferentes, uno para cada moneda"
   ]
  },
  {
   "cell_type": "markdown",
   "metadata": {},
   "source": [
    "$X_1$: V.A. que describe distribución de datos de moneda 1\n",
    "\n",
    "$X_2$: V.A. que describe distribución de datos de moneda 2\n",
    "\n",
    "$X_3$: V.A. que describe distribución de datos de moneda 3"
   ]
  },
  {
   "cell_type": "markdown",
   "metadata": {},
   "source": [
    "### Cada modelo tiene sus parámetros (uno en este caso): \n",
    "Cada moneda es un modelo de variable aleatoria $X_i$ con distribución de **Bernoulli**  y paramtro $p$"
   ]
  },
  {
   "cell_type": "markdown",
   "metadata": {},
   "source": [
    "### Inferencia o Estimación de parámetros: \n",
    "\\begin{equation}\n",
    "\\large\n",
    "p = \\frac{N_{caras}}{N}\n",
    "\\end{equation}\n",
    "\n",
    "$P(X_1 = 1) = p = 0.514$  \n",
    "$P(X_2 = 1) = p = 0.75$  \n",
    "$P(X_3 = 1) = p = 0.33$  "
   ]
  },
  {
   "cell_type": "code",
   "execution_count": 11,
   "metadata": {},
   "outputs": [
    {
     "name": "stdout",
     "output_type": "stream",
     "text": [
      "0.514 0.249804\n",
      "0.75 0.1875\n",
      "0.33 0.2211\n"
     ]
    }
   ],
   "source": [
    "print(moneda_1_bernoulli.mean(), moneda_1_bernoulli.var())\n",
    "print(moneda_2_bernoulli.mean(), moneda_2_bernoulli.var())\n",
    "print(moneda_3_bernoulli.mean(), moneda_3_bernoulli.var())"
   ]
  },
  {
   "cell_type": "markdown",
   "metadata": {},
   "source": [
    "### Modelo paramétrico"
   ]
  },
  {
   "cell_type": "markdown",
   "metadata": {},
   "source": [
    "![](modelo_param.png)"
   ]
  },
  {
   "cell_type": "markdown",
   "metadata": {},
   "source": [
    "Modelo: V.A Bernoulli\n",
    "\n",
    "Parámetro: p=1/2"
   ]
  },
  {
   "cell_type": "code",
   "execution_count": 22,
   "metadata": {},
   "outputs": [
    {
     "name": "stdout",
     "output_type": "stream",
     "text": [
      "[0 0 0 1 1 0 1 1 1 1 1 0 1 1 0 0 1 1 0 1]\n"
     ]
    }
   ],
   "source": [
    "p = 0.5\n",
    "# Utilizar distintos Ns\n",
    "N = 100\n",
    "moneda_1_gen = np.random.choice([0, 1],  size = N, p = [1-p, p])\n",
    "print(moneda_1_gen[:20])"
   ]
  },
  {
   "cell_type": "code",
   "execution_count": 23,
   "metadata": {},
   "outputs": [
    {
     "data": {
      "text/plain": [
       "46"
      ]
     },
     "execution_count": 23,
     "metadata": {},
     "output_type": "execute_result"
    }
   ],
   "source": [
    "(moneda_1_gen == 1).sum()"
   ]
  },
  {
   "cell_type": "code",
   "execution_count": 24,
   "metadata": {},
   "outputs": [
    {
     "data": {
      "text/plain": [
       "0.46000000000000002"
      ]
     },
     "execution_count": 24,
     "metadata": {},
     "output_type": "execute_result"
    }
   ],
   "source": [
    "(moneda_1_gen == 1).sum()/N"
   ]
  },
  {
   "cell_type": "code",
   "execution_count": 16,
   "metadata": {},
   "outputs": [
    {
     "data": {
      "text/plain": [
       "(0.50038000000000005, 0.24999985560000013, 0.49999985559997928)"
      ]
     },
     "execution_count": 16,
     "metadata": {},
     "output_type": "execute_result"
    }
   ],
   "source": [
    "moneda_1_gen.mean(), moneda_1_gen.var(), moneda_1_gen.std()"
   ]
  },
  {
   "cell_type": "markdown",
   "metadata": {},
   "source": [
    "Conclusiones:\n",
    "1. Genere datos con p=0.5\n",
    "2. De los datos estimo p y no es exactamente igual.\n",
    "3. A mayor cantidad, mejor es la estimación"
   ]
  },
  {
   "cell_type": "code",
   "execution_count": null,
   "metadata": {},
   "outputs": [],
   "source": []
  }
 ],
 "metadata": {
  "kernelspec": {
   "display_name": "Python 3",
   "language": "python",
   "name": "python3"
  },
  "language_info": {
   "codemirror_mode": {
    "name": "ipython",
    "version": 3
   },
   "file_extension": ".py",
   "mimetype": "text/x-python",
   "name": "python",
   "nbconvert_exporter": "python",
   "pygments_lexer": "ipython3",
   "version": "3.6.2"
  }
 },
 "nbformat": 4,
 "nbformat_minor": 2
}
