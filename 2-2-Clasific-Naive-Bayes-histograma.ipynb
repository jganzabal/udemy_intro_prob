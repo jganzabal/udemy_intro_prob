{
 "cells": [
  {
   "cell_type": "code",
   "execution_count": 17,
   "metadata": {},
   "outputs": [
    {
     "name": "stdout",
     "output_type": "stream",
     "text": [
      "The autoreload extension is already loaded. To reload it, use:\n",
      "  %reload_ext autoreload\n"
     ]
    }
   ],
   "source": [
    "# Estos dos comandos evitan que haya que hacer reload cada vez que se modifica un paquete\n",
    "%load_ext autoreload\n",
    "%autoreload 2\n",
    "%config InlineBackend.figure_format = 'retina'"
   ]
  },
  {
   "cell_type": "markdown",
   "metadata": {},
   "source": [
    "Anotaciones:\n",
    "Desde el lado de Estadistica querriamos ver que tan bueno se aproxima a una gaussiana. Desde ML que tan bien generaliza"
   ]
  },
  {
   "cell_type": "code",
   "execution_count": 18,
   "metadata": {},
   "outputs": [],
   "source": [
    "import pandas as pd\n",
    "import numpy as np\n",
    "from matplotlib import pyplot as plt\n",
    "import pandas as pd\n",
    "from collections import Counter\n",
    "from mpl_toolkits.mplot3d import Axes3D"
   ]
  },
  {
   "cell_type": "code",
   "execution_count": 19,
   "metadata": {},
   "outputs": [],
   "source": [
    "data = pd.read_csv('data/alturas-pesos-mils-train.csv')"
   ]
  },
  {
   "cell_type": "code",
   "execution_count": 20,
   "metadata": {},
   "outputs": [],
   "source": [
    "test = pd.read_csv('data/alturas-pesos-mils-test.csv')"
   ]
  },
  {
   "cell_type": "code",
   "execution_count": 21,
   "metadata": {},
   "outputs": [],
   "source": [
    "from BiVariateJoint import BiVariateJoint"
   ]
  },
  {
   "cell_type": "code",
   "execution_count": 22,
   "metadata": {},
   "outputs": [],
   "source": [
    "data_hombres = data.loc[data['Genero']=='Hombre'][['Peso','Altura']].values\n",
    "data_mujeres = data.loc[data['Genero']=='Mujer'][['Peso','Altura']].values"
   ]
  },
  {
   "cell_type": "markdown",
   "metadata": {},
   "source": [
    "# Grafico los datos"
   ]
  },
  {
   "cell_type": "code",
   "execution_count": 23,
   "metadata": {},
   "outputs": [],
   "source": [
    "%matplotlib qt\n",
    "f = plt.figure(figsize=(20,10))\n",
    "plt.scatter(data_hombres[:,0], data_hombres[:,1], color='b', s=2, label='Hombres')\n",
    "plt.scatter(data_mujeres[:,0], data_mujeres[:,1], color='r', s=2, label='Mujeres')\n",
    "plt.xlabel('Pesos [cms]')\n",
    "plt.ylabel('Alturas [cms]')\n",
    "plt.legend()\n",
    "plt.show()"
   ]
  },
  {
   "cell_type": "code",
   "execution_count": 24,
   "metadata": {},
   "outputs": [],
   "source": [
    "from BiVariateJoint import get_class_prob"
   ]
  },
  {
   "cell_type": "markdown",
   "metadata": {},
   "source": [
    "# Naive Bayes (Supongo independencia)\n",
    "\n",
    "\\begin{equation}\n",
    "\\large\n",
    "P(X_1,X_2 | Género) = P(X_1 | Género) P(X_1 | Género)\n",
    "\\end{equation}"
   ]
  },
  {
   "cell_type": "code",
   "execution_count": 25,
   "metadata": {},
   "outputs": [],
   "source": [
    "step = 2\n",
    "maxs = np.round(data[['Peso','Altura']].values.max(axis = 0))\n",
    "mins = np.round(data[['Peso','Altura']].values.min(axis = 0))\n",
    "\n",
    "joint_hombres = BiVariateJoint(data_hombres, \n",
    "                               step_X = step, \n",
    "                               step_Y = step,\n",
    "                               mins = mins, \n",
    "                               maxs = maxs\n",
    "                              )\n",
    "joint_mujeres = BiVariateJoint(data_mujeres, \n",
    "                               step_X = step, \n",
    "                               step_Y = step,\n",
    "                               mins = mins, \n",
    "                               maxs = maxs)"
   ]
  },
  {
   "cell_type": "code",
   "execution_count": 26,
   "metadata": {},
   "outputs": [],
   "source": [
    "def getAxis():\n",
    "    fig = plt.figure(figsize=(20,10))\n",
    "    ax1 = fig.add_subplot(121, projection='3d')\n",
    "    ax2 = fig.add_subplot(122, projection='3d')\n",
    "    ax1.set_aspect('equal')\n",
    "    ax2.set_aspect('equal')\n",
    "    ax1.set_xlabel('Pesos [cms]')\n",
    "    ax1.set_ylabel('Alturas [cms]')\n",
    "    ax2.set_xlabel('Pesos [kgs]')\n",
    "    ax2.set_ylabel('Alturas [cms]')\n",
    "    ax2.set_zlabel('Frecuencia')\n",
    "    fig.tight_layout()\n",
    "    return ax1, ax2"
   ]
  },
  {
   "cell_type": "markdown",
   "metadata": {},
   "source": [
    "## Naive Bayes (Supongo independencia)\n",
    "\n",
    "\\begin{equation}\n",
    "P(X_1,X_2 | Género) = P(X_1 | Género) P(X_1 | Género)\n",
    "\\end{equation}"
   ]
  },
  {
   "cell_type": "markdown",
   "metadata": {},
   "source": [
    "\\begin{equation}\n",
    "P(X_1,X_2 | Género) = P(X_1 | Género) P(X_1 | Género)\n",
    "\\end{equation}"
   ]
  },
  {
   "cell_type": "code",
   "execution_count": 27,
   "metadata": {},
   "outputs": [],
   "source": [
    "def get_indep_likelihoods(joint_hombres, joint_mujeres):\n",
    "    marg_pesos_hombres,  marg_alturas_hombres = joint_hombres.get_Marginals()\n",
    "    marg_pesos_mujeres,  marg_alturas_mujeres = joint_mujeres.get_Marginals()\n",
    "    marg_pesos_hombres_rep, marg_alturas_hombres_rep = np.meshgrid(marg_pesos_hombres, \n",
    "                                                                   marg_alturas_hombres)\n",
    "    marg_pesos_mujeres_rep, marg_alturas_mujeres_rep = np.meshgrid(marg_pesos_mujeres, \n",
    "                                                                   marg_alturas_mujeres)\n",
    "    likelihood_indep_class_1 = (marg_pesos_hombres_rep*marg_alturas_hombres_rep).T\n",
    "    likelihood_indep_class_2 = (marg_pesos_mujeres_rep*marg_alturas_mujeres_rep).T\n",
    "    return likelihood_indep_class_1, likelihood_indep_class_2"
   ]
  },
  {
   "cell_type": "code",
   "execution_count": 30,
   "metadata": {},
   "outputs": [],
   "source": [
    "marg_pesos_hombres,  marg_alturas_hombres = joint_hombres.get_Marginals(normalized=False)\n",
    "marg_pesos_mujeres,  marg_alturas_mujeres = joint_mujeres.get_Marginals(normalized=False)"
   ]
  },
  {
   "cell_type": "code",
   "execution_count": 31,
   "metadata": {},
   "outputs": [],
   "source": [
    "%matplotlib qt\n",
    "f, ax = plt.subplots(1, 2, figsize=(20,5))\n",
    "ax[0].bar(joint_hombres.X, marg_pesos_hombres, color='b', label='Hombres')\n",
    "ax[0].bar(joint_mujeres.X, marg_pesos_mujeres, alpha=0.5, color='r', label='Mujeres')\n",
    "ax[1].bar(joint_hombres.Y, marg_alturas_hombres, color='b', label='Hombres')\n",
    "ax[1].bar(joint_mujeres.Y, marg_alturas_mujeres, alpha=0.5, color='r', label='Mujeres')\n",
    "ax[0].set_title('Marginales de pesos')\n",
    "ax[1].set_title('Marginales de alturas')\n",
    "ax[0].legend()\n",
    "ax[1].legend()\n",
    "plt.show()"
   ]
  },
  {
   "cell_type": "code",
   "execution_count": 129,
   "metadata": {},
   "outputs": [],
   "source": [
    "marg_pesos_hombres_rep, marg_alturas_hombres_rep = np.meshgrid(marg_pesos_hombres, marg_alturas_hombres)\n",
    "marg_pesos_mujeres_rep, marg_alturas_mujeres_rep = np.meshgrid(marg_pesos_mujeres, marg_alturas_mujeres)"
   ]
  },
  {
   "cell_type": "code",
   "execution_count": 130,
   "metadata": {},
   "outputs": [],
   "source": [
    "likelihood_indep_class_1 = (marg_pesos_hombres_rep*marg_alturas_hombres_rep).T\n",
    "likelihood_indep_class_2 = (marg_pesos_mujeres_rep*marg_alturas_mujeres_rep).T"
   ]
  },
  {
   "cell_type": "code",
   "execution_count": 115,
   "metadata": {},
   "outputs": [],
   "source": [
    "%matplotlib qt\n",
    "ax1, ax2 = getAxis()\n",
    "joint_hombres.plot_joint_3d(marg_pesos_hombres_rep.T, ax=ax1, color='b', el=60, az=15)\n",
    "joint_mujeres.plot_joint_3d(marg_alturas_hombres_rep.T, ax=ax2, color='b', el=40, az=-5)"
   ]
  },
  {
   "cell_type": "code",
   "execution_count": 32,
   "metadata": {},
   "outputs": [],
   "source": [
    "%matplotlib qt\n",
    "ax1, ax2 = getAxis()\n",
    "joint_hombres.plot_joint_3d(marg_pesos_mujeres_rep.T, ax=ax1, color='r', el=60, az=15)\n",
    "joint_mujeres.plot_joint_3d(marg_alturas_mujeres_rep.T, ax=ax2, color='r', el=40, az=-5)"
   ]
  },
  {
   "cell_type": "code",
   "execution_count": 116,
   "metadata": {},
   "outputs": [],
   "source": [
    "%matplotlib qt\n",
    "ax1, ax2 = getAxis()\n",
    "joint_hombres.plot_joint_3d(likelihood_indep_class_1, ax=ax1, color='b')\n",
    "joint_mujeres.plot_joint_3d(likelihood_indep_class_2, ax=ax2, color='r')"
   ]
  },
  {
   "cell_type": "markdown",
   "metadata": {},
   "source": [
    "## Calculo a posteriori"
   ]
  },
  {
   "cell_type": "markdown",
   "metadata": {},
   "source": [
    "\\begin{equation}\n",
    "P(Hombre | X_1, X_2) = \\frac{P(X_1 | Hombre) P(X_2 | Hombre) P(Hombre)}{P(X_1,X_2)} \\\\\n",
    "P(Mujer | X_1, X_2) = \\frac{P(X_1 | Mujer) P(X_2 | Mujer) P(Mujer)}{P(X_1,X_2)}\n",
    "\\end{equation}"
   ]
  },
  {
   "cell_type": "code",
   "execution_count": 131,
   "metadata": {},
   "outputs": [],
   "source": [
    "from BiVariateJoint import get_class_prob_naive"
   ]
  },
  {
   "cell_type": "code",
   "execution_count": 132,
   "metadata": {},
   "outputs": [
    {
     "name": "stdout",
     "output_type": "stream",
     "text": [
      "0.86\n"
     ]
    }
   ],
   "source": [
    "p_class_1, p_class_2 = get_class_prob_naive(data['Peso'].values, \n",
    "                                            data['Altura'].values, \n",
    "                                            joint_hombres, \n",
    "                                            joint_mujeres, \n",
    "                                           likelihood_indep_class_1,\n",
    "                                           likelihood_indep_class_2)\n",
    "acc_train_nbayes = ((p_class_1>p_class_2) == (data['Genero'].values == 'Hombre')).sum()/len(data)\n",
    "print(acc_train_nbayes)"
   ]
  },
  {
   "cell_type": "code",
   "execution_count": 133,
   "metadata": {},
   "outputs": [
    {
     "name": "stdout",
     "output_type": "stream",
     "text": [
      "0.8115\n"
     ]
    }
   ],
   "source": [
    "p_class_1, p_class_2 = get_class_prob_naive(test['Peso'].values, \n",
    "                                            test['Altura'].values,\n",
    "                                            joint_hombres, \n",
    "                                            joint_mujeres, \n",
    "                                           likelihood_indep_class_1,\n",
    "                                           likelihood_indep_class_2\n",
    "                                           )\n",
    "acc_cv_nbayes = ((p_class_1>p_class_2) == (test['Genero'].values == 'Hombre')).sum()/len(test)\n",
    "print(acc_cv_nbayes)"
   ]
  },
  {
   "cell_type": "code",
   "execution_count": 135,
   "metadata": {},
   "outputs": [],
   "source": [
    "X, Y = np.meshgrid(joint_hombres.X, joint_hombres.Y)\n",
    "Z = np.zeros(X.shape)\n",
    "for i in range(X.shape[0]):\n",
    "    Z[i] = get_class_prob_naive(X[i], \n",
    "                                Y[i],\n",
    "                               joint_hombres,\n",
    "                               joint_mujeres, \n",
    "                               likelihood_indep_class_1,\n",
    "                                           likelihood_indep_class_2)[0]\n",
    "    \n",
    "%matplotlib qt\n",
    "fig = plt.figure(figsize=(20,10))\n",
    "ax = fig.gca()\n",
    "cm = plt.cm.RdBu\n",
    "cf = ax.contourf(X, Y, Z, 256, alpha=.8, vmin=0., vmax=1., cmap=cm)\n",
    "plt.colorbar(cf, ax=ax)\n",
    "ax.set_title('TRAIN: ' + str(np.round(acc_train_nbayes*100)/100) + ' - CV:' + str(np.round(acc_cv_nbayes*100)/100) +' - Step: '+str(step))\n",
    "ax.set_xlabel('Pesos [kgs]')\n",
    "ax.set_ylabel('Alturas [cms]')\n",
    "plt.show()"
   ]
  },
  {
   "cell_type": "code",
   "execution_count": 89,
   "metadata": {},
   "outputs": [],
   "source": [
    "train_acc = []\n",
    "test_acc = []\n",
    "steps = [2, 4,  8, 16, 32]\n",
    "for step in steps:\n",
    "    maxs = np.round(data[['Peso','Altura']].values.max(axis = 0))\n",
    "    mins = np.round(data[['Peso','Altura']].values.min(axis = 0))\n",
    "\n",
    "    joint_hombres = BiVariateJoint(data_hombres, \n",
    "                                   step_X = step, \n",
    "                                   step_Y = step,\n",
    "                                   mins = mins, \n",
    "                                   maxs = maxs\n",
    "                                  )\n",
    "    joint_mujeres = BiVariateJoint(data_mujeres, \n",
    "                                   step_X = step, \n",
    "                                   step_Y = step,\n",
    "                                   mins = mins, \n",
    "                                   maxs = maxs)\n",
    "    \n",
    "    likelihood_indep_class_1, likelihood_indep_class_2 = get_indep_likelihoods(joint_hombres, joint_mujeres)\n",
    "    \n",
    "    p_class_1, p_class_2 = get_class_prob_naive(data['Peso'].values, \n",
    "                                            data['Altura'].values, \n",
    "                                            joint_hombres, \n",
    "                                            joint_mujeres, \n",
    "                                           likelihood_indep_class_1,\n",
    "                                           likelihood_indep_class_2)\n",
    "    acc_train_nbayes = ((p_class_1>p_class_2) == (data['Genero'].values == 'Hombre')).sum()/len(data)\n",
    "\n",
    "    train_acc.append(acc_train_nbayes)\n",
    "    p_class_1, p_class_2 = get_class_prob_naive(test['Peso'].values, \n",
    "                                            test['Altura'].values,\n",
    "                                            joint_hombres, \n",
    "                                            joint_mujeres, \n",
    "                                           likelihood_indep_class_1,\n",
    "                                           likelihood_indep_class_2\n",
    "                                           )\n",
    "    acc_cv_nbayes = ((p_class_1>p_class_2) == (test['Genero'].values == 'Hombre')).sum()/len(test)\n",
    "    test_acc.append(acc_cv_nbayes)"
   ]
  },
  {
   "cell_type": "code",
   "execution_count": 122,
   "metadata": {},
   "outputs": [],
   "source": [
    "%matplotlib qt\n",
    "plt.xscale('log')\n",
    "plt.plot(steps, train_acc, label='Train', marker='x')\n",
    "plt.plot(steps, test_acc, label='CV', marker='x')\n",
    "plt.xticks(steps, steps)\n",
    "plt.xlabel('Resolución Peso/Altura')\n",
    "plt.ylabel('Accuracy')\n",
    "plt.legend()\n",
    "plt.show()"
   ]
  },
  {
   "cell_type": "code",
   "execution_count": null,
   "metadata": {},
   "outputs": [],
   "source": []
  }
 ],
 "metadata": {
  "kernelspec": {
   "display_name": "Python 3",
   "language": "python",
   "name": "python3"
  },
  "language_info": {
   "codemirror_mode": {
    "name": "ipython",
    "version": 3
   },
   "file_extension": ".py",
   "mimetype": "text/x-python",
   "name": "python",
   "nbconvert_exporter": "python",
   "pygments_lexer": "ipython3",
   "version": "3.6.6"
  }
 },
 "nbformat": 4,
 "nbformat_minor": 2
}
