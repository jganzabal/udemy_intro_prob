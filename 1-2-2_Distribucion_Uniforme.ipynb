{
 "cells": [
  {
   "cell_type": "markdown",
   "metadata": {},
   "source": [
    "# Distribución uniforme"
   ]
  },
  {
   "cell_type": "markdown",
   "metadata": {},
   "source": [
    "## Importamos librerías"
   ]
  },
  {
   "cell_type": "code",
   "execution_count": 1,
   "metadata": {},
   "outputs": [],
   "source": [
    "import numpy as np\n",
    "from matplotlib import pyplot as plt\n",
    "from collections import Counter\n",
    "from probability_helper import plot_normalized_histogram_sorted"
   ]
  },
  {
   "cell_type": "code",
   "execution_count": 2,
   "metadata": {},
   "outputs": [],
   "source": [
    "dado_1 = np.load('data/dado_1.npy')\n",
    "dado_2 = np.load('data/dado_2.npy')"
   ]
  },
  {
   "cell_type": "markdown",
   "metadata": {},
   "source": [
    "## Histograma de Frecuencias Relativas para Dado 1"
   ]
  },
  {
   "cell_type": "code",
   "execution_count": 3,
   "metadata": {},
   "outputs": [
    {
     "data": {
      "image/png": "[encoded data removed]",
      "text/plain": [
       "<matplotlib.figure.Figure at 0x113b806d8>"
      ]
     },
     "metadata": {},
     "output_type": "display_data"
    }
   ],
   "source": [
    "espacio_muestral, probs_dado_1 = plot_normalized_histogram_sorted(dado_1)"
   ]
  },
  {
   "cell_type": "markdown",
   "metadata": {},
   "source": [
    "**Cantidad de bins en el histograma**: 6"
   ]
  },
  {
   "cell_type": "code",
   "execution_count": 4,
   "metadata": {},
   "outputs": [
    {
     "name": "stdout",
     "output_type": "stream",
     "text": [
      "[1 2 3 4 5 6]\n",
      "[ 0.17383333  0.16883333  0.1595      0.1675      0.16366667  0.16666667]\n",
      "6000\n"
     ]
    }
   ],
   "source": [
    "print(espacio_muestral)\n",
    "print(probs_dado_1)\n",
    "print(len(dado_1))"
   ]
  },
  {
   "cell_type": "markdown",
   "metadata": {},
   "source": [
    "- Notar que en 6000 tiradas del dado tenemos aproximadamente la misma cantidad para cada cara del dado\n",
    "- Aproximadamente 1/6"
   ]
  },
  {
   "cell_type": "markdown",
   "metadata": {},
   "source": [
    "## Distribución Uniforme"
   ]
  },
  {
   "cell_type": "markdown",
   "metadata": {},
   "source": [
    "\\begin{equation}\n",
    "\\large\n",
    "P(X = x_i) = \\frac{1}{K}\n",
    "\\end{equation}\n",
    "Donde $x_i$ son las seis posibles caras 1, 2, 3, 4, 5, 6\n",
    "\n",
    "**Aclaración de notación:**\n",
    "- Representaremos a las V.A con mayúscula\n",
    "- A los posibles valores determinísticos que puede tomar con minúscula"
   ]
  },
  {
   "cell_type": "markdown",
   "metadata": {},
   "source": [
    "Notar que lo que estamos suponiendo es que todas las salidas del espacio muestral son iguales de probables y como hay 6 salidas posibles, repartimos la probabilidad de igual forma para cada salida"
   ]
  },
  {
   "cell_type": "markdown",
   "metadata": {},
   "source": [
    "Media (Esperanza - Valor esperado):\n",
    "\n",
    "$x_i = [1, 2, 3, 4, 5, 6]$\n",
    "\\begin{equation}\n",
    "\\large\n",
    "\\mu_X = \\sum_i{x_iP(X_i=x_i)} = \\frac{1}{K}\\sum_i^K{x_i} =\\frac{1}{6} (1 + 2+3+4+5+6) = \\frac{A+B}{2}=3.5\n",
    "\\end{equation}\n",
    "\n",
    "Varianza:\n",
    "\\begin{equation}\n",
    "\\large\n",
    "\\sigma_X^2 = \\sum_i{(x_i-\\mu_X)^2P(X_i=x_i)} = \\frac{1}{K}\\sum_i^K{(x_i-\\mu_X)^2} =\\frac{1}{6}\\sum_i^K{(i-\\mu_X)^2} = \\frac{(B-A+1)^2-1}{12}\n",
    "\\end{equation}"
   ]
  },
  {
   "cell_type": "code",
   "execution_count": 5,
   "metadata": {},
   "outputs": [
    {
     "data": {
      "text/plain": [
       "[]"
      ]
     },
     "execution_count": 5,
     "metadata": {},
     "output_type": "execute_result"
    },
    {
     "data": {
      "image/png": "[encoded data removed]",
      "text/plain": [
       "<matplotlib.figure.Figure at 0x116867b38>"
      ]
     },
     "metadata": {},
     "output_type": "display_data"
    }
   ],
   "source": [
    "p = 1/6\n",
    "plt.stem([1, 2, 3, 4, 5,6], [1/6]*6)\n",
    "std = np.sqrt(((6-1+1)**2-1)/12)\n",
    "plt.vlines(3.5, -0.01, 1/6+0.01)\n",
    "plt.hlines(0, 3.5 + std, 3.5 - std, lw = 20, alpha = 0.1)\n",
    "plt.plot()"
   ]
  },
  {
   "cell_type": "markdown",
   "metadata": {},
   "source": [
    "# Estimación de media a partir de los datos:\n",
    "Por que el promedio se usa para la estimación de la media\n",
    "\n",
    "Diferencia entre decir:\n",
    "- Tengo una distribución uniforme con 6 salidas equiprobables -> media 1/6\n",
    "- Sumo todos los datos y divido por la cantidad"
   ]
  },
  {
   "cell_type": "code",
   "execution_count": 6,
   "metadata": {},
   "outputs": [
    {
     "name": "stdout",
     "output_type": "stream",
     "text": [
      "3.47833333333\n"
     ]
    }
   ],
   "source": [
    "print(dado_1.mean())"
   ]
  },
  {
   "cell_type": "code",
   "execution_count": 7,
   "metadata": {},
   "outputs": [
    {
     "data": {
      "text/plain": [
       "3.4783333333333335"
      ]
     },
     "execution_count": 7,
     "metadata": {},
     "output_type": "execute_result"
    }
   ],
   "source": [
    "dado_1.sum()/ len(dado_1)"
   ]
  },
  {
   "cell_type": "markdown",
   "metadata": {},
   "source": [
    "\\begin{equation}\n",
    "\\large\n",
    "\\mu_X = \\sum_i^K{x_iP(X_i=x_i)} =\\frac{1}{N} \\sum_i^N{x_i}  = \\frac{1}{N} [N_1 1 + N_2 2+N_3 3 + N_4 4+N_5 5 + N_6 6] = \\frac{N_1}{N} 1 + \\frac{N_2}{N} 2+\\frac{N_3}{N} 3 + \\frac{N_4}{N}4+\\frac{N_5}{N} 5 + \\frac{N_6}{N} 6\n",
    "\\end{equation}"
   ]
  },
  {
   "cell_type": "markdown",
   "metadata": {},
   "source": [
    "## Modelo dado 1"
   ]
  },
  {
   "cell_type": "code",
   "execution_count": 8,
   "metadata": {},
   "outputs": [
    {
     "data": {
      "image/png": "[encoded data removed]",
      "text/plain": [
       "<matplotlib.figure.Figure at 0x1168531d0>"
      ]
     },
     "metadata": {},
     "output_type": "display_data"
    }
   ],
   "source": [
    "plt.bar(espacio_muestral, probs_dado_1)\n",
    "plt.bar([1,2,3,4,5,6], 6*[1/6],   edgecolor='k', color = (0.2, 0.4, 0.6, 0.0))\n",
    "plt.show()"
   ]
  },
  {
   "cell_type": "markdown",
   "metadata": {},
   "source": [
    "### ¿Cuantos parámetros entonces tiene nuestro modelo?"
   ]
  },
  {
   "cell_type": "markdown",
   "metadata": {},
   "source": [
    "1"
   ]
  },
  {
   "cell_type": "markdown",
   "metadata": {},
   "source": [
    "### ¿Como lo estimo?"
   ]
  },
  {
   "cell_type": "code",
   "execution_count": 9,
   "metadata": {},
   "outputs": [
    {
     "data": {
      "text/plain": [
       "0.16666666666666666"
      ]
     },
     "execution_count": 9,
     "metadata": {},
     "output_type": "execute_result"
    }
   ],
   "source": [
    "1/len(espacio_muestral)"
   ]
  },
  {
   "cell_type": "markdown",
   "metadata": {},
   "source": [
    "$P(X = 1) = \\frac{1}{6}$  \n",
    "$P(X = 2) =\\frac{1}{6}$  \n",
    "$P(X = 3) = \\frac{1}{6}$  \n",
    "$P(X = 4) = \\frac{1}{6}$  \n",
    "$P(X = 5) = \\frac{1}{6}$  \n",
    "$P(X = 6) = \\frac{1}{6}$  "
   ]
  },
  {
   "cell_type": "code",
   "execution_count": 12,
   "metadata": {},
   "outputs": [
    {
     "name": "stdout",
     "output_type": "stream",
     "text": [
      "estimados de los datos:\n",
      "3.47833333333 2.95753055556\n",
      "Ideales para la uniforme con p=1/6:\n",
      "3.5 2.9166666666666665\n"
     ]
    }
   ],
   "source": [
    "print('estimados de los datos:')\n",
    "print(dado_1.mean(), dado_1.var())\n",
    "print('Ideales para la uniforme con p=1/6:')\n",
    "print(3.5, ((6-1+1)**2-1)/12)"
   ]
  },
  {
   "cell_type": "code",
   "execution_count": 13,
   "metadata": {},
   "outputs": [
    {
     "data": {
      "text/plain": [
       "2.9166666666666665"
      ]
     },
     "execution_count": 13,
     "metadata": {},
     "output_type": "execute_result"
    }
   ],
   "source": [
    "# podemos calcularlo usando list comprehension\n",
    "np.array([(i+1-3.5)**2 for i in range(6)]).sum()/6"
   ]
  },
  {
   "cell_type": "markdown",
   "metadata": {},
   "source": [
    "## MSE (Varianza del Error)"
   ]
  },
  {
   "cell_type": "code",
   "execution_count": 14,
   "metadata": {},
   "outputs": [
    {
     "data": {
      "text/plain": [
       "1.9518518518518543e-05"
      ]
     },
     "execution_count": 14,
     "metadata": {},
     "output_type": "execute_result"
    }
   ],
   "source": [
    "np.sum((probs_dado_1 - 1/6)**2)/6"
   ]
  },
  {
   "cell_type": "code",
   "execution_count": 15,
   "metadata": {},
   "outputs": [
    {
     "data": {
      "text/plain": [
       "1.9518518518518543e-05"
      ]
     },
     "execution_count": 15,
     "metadata": {},
     "output_type": "execute_result"
    }
   ],
   "source": [
    "np.var(probs_dado_1 - 1/6)"
   ]
  },
  {
   "cell_type": "markdown",
   "metadata": {},
   "source": [
    "## Modelo paramétrico"
   ]
  },
  {
   "cell_type": "markdown",
   "metadata": {},
   "source": [
    "![](modelo_param.png)"
   ]
  },
  {
   "cell_type": "markdown",
   "metadata": {},
   "source": [
    "Modelo: Distribución uniforme\n",
    "\n",
    "Parametros: p = 1/6"
   ]
  },
  {
   "cell_type": "code",
   "execution_count": 16,
   "metadata": {},
   "outputs": [
    {
     "name": "stdout",
     "output_type": "stream",
     "text": [
      "[2 5 6 4 3 1 2 6 4 2 2 5 6 2 5 4 2 1 3 1 1 6 5 3 5 6 2 3 2 2 1 6 1 2 4 2 1\n",
      " 2 4 2 5 5 6 3 5 1 5 2 6 2 3 5 3 6 5 1 2 1 4 2 3 5 6 1 6 3 6 6 3 5 4 4 3 1\n",
      " 4 2 3 5 2 5 2 6 1 2 1 4 6 1 3 5 6 6 4 3 1 6 6 6 2 1]\n",
      "3.4767 2.92185711\n"
     ]
    }
   ],
   "source": [
    "N = 10000\n",
    "dado_gen = np.random.choice([1,2,3,4,5,6], size=N, p=[1/6]*6)\n",
    "print(dado_gen[:100])\n",
    "print(dado_gen.mean(), dado_gen.var())"
   ]
  },
  {
   "cell_type": "code",
   "execution_count": 17,
   "metadata": {},
   "outputs": [
    {
     "data": {
      "text/plain": [
       "array([3, 5, 5, 6, 2, 1, 5, 6, 4, 1, 1, 3, 4, 1, 3, 6, 6, 5, 4, 2, 4, 4, 4,\n",
       "       1, 5, 1, 3, 3, 3, 2, 1, 4, 5, 1, 3, 3, 2, 3, 1, 2, 2, 3, 2, 6, 6, 5,\n",
       "       2, 3, 3, 5, 3, 2, 5, 1, 1, 2, 6, 3, 1, 2, 6, 4, 1, 6, 4, 6, 1, 4, 3,\n",
       "       2, 1, 1, 3, 3, 3, 6, 2, 3, 2, 3, 6, 6, 4, 3, 2, 6, 4, 2, 3, 1, 2, 2,\n",
       "       5, 2, 3, 1, 2, 4, 6, 2])"
      ]
     },
     "execution_count": 17,
     "metadata": {},
     "output_type": "execute_result"
    }
   ],
   "source": [
    "# Forma sencilla\n",
    "np.random.randint(1,7,100)"
   ]
  },
  {
   "cell_type": "markdown",
   "metadata": {},
   "source": [
    "## Modelo dado 2 (No paramétrico)"
   ]
  },
  {
   "cell_type": "code",
   "execution_count": 18,
   "metadata": {},
   "outputs": [
    {
     "data": {
      "text/plain": [
       "array([3, 6, 6, 6, 4, 6, 3, 6, 4, 4, 6, 4, 4, 6, 6, 4, 6, 2, 6, 6])"
      ]
     },
     "execution_count": 18,
     "metadata": {},
     "output_type": "execute_result"
    }
   ],
   "source": [
    "dado_2[:20]"
   ]
  },
  {
   "cell_type": "code",
   "execution_count": 19,
   "metadata": {},
   "outputs": [
    {
     "data": {
      "image/png": "[encoded data removed]",
      "text/plain": [
       "<matplotlib.figure.Figure at 0x111b7f898>"
      ]
     },
     "metadata": {},
     "output_type": "display_data"
    }
   ],
   "source": [
    "espacio_muestral, probs_dado_2 = plot_normalized_histogram_sorted(dado_2)"
   ]
  },
  {
   "cell_type": "code",
   "execution_count": 20,
   "metadata": {},
   "outputs": [
    {
     "name": "stdout",
     "output_type": "stream",
     "text": [
      "[1 2 3 4 5 6]\n",
      "[ 0.02633333  0.073       0.15316667  0.199       0.24566667  0.30283333]\n"
     ]
    }
   ],
   "source": [
    "print(espacio_muestral)\n",
    "print(probs_dado_2)"
   ]
  },
  {
   "cell_type": "code",
   "execution_count": 21,
   "metadata": {},
   "outputs": [
    {
     "data": {
      "text/plain": [
       "[]"
      ]
     },
     "execution_count": 21,
     "metadata": {},
     "output_type": "execute_result"
    },
    {
     "data": {
      "image/png": "[encoded data removed]",
      "text/plain": [
       "<matplotlib.figure.Figure at 0x11c0cfa58>"
      ]
     },
     "metadata": {},
     "output_type": "display_data"
    }
   ],
   "source": [
    "p = 1/6\n",
    "plt.stem(espacio_muestral, probs_dado_2)\n",
    "std = dado_2.std()\n",
    "media = dado_2.mean()\n",
    "plt.vlines(media, -0.01, 1/6+0.01)\n",
    "plt.hlines(0, media + std, media - std, lw = 20, alpha = 0.1)\n",
    "plt.plot()"
   ]
  },
  {
   "cell_type": "markdown",
   "metadata": {},
   "source": [
    "### Como modelizo esta V.A?"
   ]
  },
  {
   "cell_type": "markdown",
   "metadata": {},
   "source": [
    "$P(X = 1) = 0.0263$  \n",
    "$P(X = 2) = 0.0730$  \n",
    "$P(X = 3) = 0.1532$  \n",
    "$P(X = 4) = 0.1990$  \n",
    "$P(X = 5) = 0.2457$  \n",
    "$P(X = 6) = 0.3028$  "
   ]
  },
  {
   "cell_type": "markdown",
   "metadata": {},
   "source": [
    "### Cuantos parámetros tiene este modelo?"
   ]
  },
  {
   "cell_type": "markdown",
   "metadata": {},
   "source": [
    "6\n",
    "\n",
    "En este caso estoy guardando todo el histograma para representar mi modelo"
   ]
  },
  {
   "cell_type": "markdown",
   "metadata": {},
   "source": [
    "### Como calculo la probabilidad de cada cara?"
   ]
  },
  {
   "cell_type": "markdown",
   "metadata": {},
   "source": [
    "\\begin{equation}\n",
    "\\large\n",
    "P(X = x_i) = \\frac{N_i}{N}\n",
    "\\end{equation}"
   ]
  },
  {
   "cell_type": "markdown",
   "metadata": {},
   "source": [
    "- Donde N es 6000, la cantidad de veces que tiré el dado\n",
    "- $N_i$ es la cantidad de veces que salio la cara i'ésima"
   ]
  },
  {
   "cell_type": "markdown",
   "metadata": {},
   "source": [
    "### Como genero con python datos con esta distribución?"
   ]
  },
  {
   "cell_type": "code",
   "execution_count": 22,
   "metadata": {},
   "outputs": [
    {
     "data": {
      "text/plain": [
       "(array([1, 2, 3, 4, 5, 6]),\n",
       " array([ 0.02633333,  0.073     ,  0.15316667,  0.199     ,  0.24566667,\n",
       "         0.30283333]))"
      ]
     },
     "execution_count": 22,
     "metadata": {},
     "output_type": "execute_result"
    }
   ],
   "source": [
    "espacio_muestral, probs_dado_2"
   ]
  },
  {
   "cell_type": "code",
   "execution_count": 23,
   "metadata": {},
   "outputs": [
    {
     "data": {
      "text/plain": [
       "array([6, 4, 6, ..., 4, 4, 5])"
      ]
     },
     "execution_count": 23,
     "metadata": {},
     "output_type": "execute_result"
    }
   ],
   "source": [
    "np.random.choice([1, 2, 3, 4, 5, 6],  \n",
    "                 size = 6000, \n",
    "                 p = [0.02633333, 0.073, 0.15316667, 0.199, 0.24566667,0.30283333], \n",
    "                 replace=True)"
   ]
  },
  {
   "cell_type": "markdown",
   "metadata": {},
   "source": [
    "## Resumiendo"
   ]
  },
  {
   "cell_type": "markdown",
   "metadata": {},
   "source": [
    "Modelo 1:  \n",
    "- Puedo representar la V.A del dado 1 con una distribución uniorme de parametro p=1/6. \n",
    "- Modelo paramétrico  \n",
    "\n",
    "Modelo 2:   \n",
    "- Tengo que indicar la probabilidad de cada una de las posibles salidas\n",
    "- Modelo NO Paramétrico"
   ]
  }
 ],
 "metadata": {
  "kernelspec": {
   "display_name": "Python 3",
   "language": "python",
   "name": "python3"
  },
  "language_info": {
   "codemirror_mode": {
    "name": "ipython",
    "version": 3
   },
   "file_extension": ".py",
   "mimetype": "text/x-python",
   "name": "python",
   "nbconvert_exporter": "python",
   "pygments_lexer": "ipython3",
   "version": "3.6.2"
  }
 },
 "nbformat": 4,
 "nbformat_minor": 2
}
