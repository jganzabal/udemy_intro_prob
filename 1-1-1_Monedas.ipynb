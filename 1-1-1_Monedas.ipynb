{
 "cells": [
  {
   "cell_type": "markdown",
   "metadata": {},
   "source": [
    "# Dataset Monedas"
   ]
  },
  {
   "cell_type": "markdown",
   "metadata": {},
   "source": [
    "## Importamos librerías a utilizar\n",
    "numpy, pyplot de matplotlib, Counter de collections"
   ]
  },
  {
   "cell_type": "code",
   "execution_count": 2,
   "metadata": {},
   "outputs": [],
   "source": [
    "import numpy as np\n",
    "from matplotlib import pyplot as plt\n",
    "from collections import Counter"
   ]
  },
  {
   "cell_type": "markdown",
   "metadata": {},
   "source": [
    "## Cargamos datos"
   ]
  },
  {
   "cell_type": "code",
   "execution_count": 24,
   "metadata": {},
   "outputs": [],
   "source": [
    "moneda_1 = np.load('data/coin_1.npy')\n",
    "moneda_2 = np.load('data/coin_2.npy')\n",
    "moneda_3 = np.load('data/coin_3.npy')"
   ]
  },
  {
   "cell_type": "code",
   "execution_count": 31,
   "metadata": {},
   "outputs": [
    {
     "name": "stdout",
     "output_type": "stream",
     "text": [
      "['seca' 'cara' 'cara' 'cara' 'cara' 'seca' 'seca' 'seca' 'seca' 'cara'\n",
      " 'seca' 'seca' 'cara' 'cara' 'seca' 'cara' 'seca' 'seca' 'seca' 'seca']\n",
      "['seca' 'cara' 'cara' 'cara' 'cara' 'cara' 'cara' 'cara' 'cara' 'cara'\n",
      " 'seca' 'seca' 'cara' 'cara' 'seca' 'cara' 'seca' 'cara' 'cara' 'cara']\n",
      "['seca' 'seca' 'seca' 'cara' 'seca' 'seca' 'seca' 'seca' 'seca' 'seca'\n",
      " 'seca' 'seca' 'seca' 'seca' 'seca' 'seca' 'seca' 'seca' 'seca' 'cara']\n"
     ]
    }
   ],
   "source": [
    "print(moneda_1[:20])\n",
    "print(moneda_2[:20])\n",
    "print(moneda_3[:20])"
   ]
  },
  {
   "cell_type": "markdown",
   "metadata": {},
   "source": [
    "## Frecuencia de los datos"
   ]
  },
  {
   "cell_type": "code",
   "execution_count": 4,
   "metadata": {},
   "outputs": [],
   "source": [
    "moneda_1_frecuencia = Counter(moneda_1)"
   ]
  },
  {
   "cell_type": "code",
   "execution_count": 23,
   "metadata": {},
   "outputs": [
    {
     "name": "stdout",
     "output_type": "stream",
     "text": [
      "Counter({'cara': 514, 'seca': 486})\n"
     ]
    }
   ],
   "source": [
    "print(moneda_1_frecuencia)"
   ]
  },
  {
   "cell_type": "code",
   "execution_count": 6,
   "metadata": {},
   "outputs": [
    {
     "data": {
      "text/plain": [
       "dict_values([486, 514])"
      ]
     },
     "execution_count": 6,
     "metadata": {},
     "output_type": "execute_result"
    }
   ],
   "source": [
    "moneda_1_frecuencia.values()"
   ]
  },
  {
   "cell_type": "code",
   "execution_count": 7,
   "metadata": {},
   "outputs": [
    {
     "data": {
      "text/plain": [
       "dict_keys(['seca', 'cara'])"
      ]
     },
     "execution_count": 7,
     "metadata": {},
     "output_type": "execute_result"
    }
   ],
   "source": [
    "moneda_1_frecuencia.keys()"
   ]
  },
  {
   "cell_type": "markdown",
   "metadata": {},
   "source": [
    "## Histograma de Frecuencias"
   ]
  },
  {
   "cell_type": "code",
   "execution_count": 8,
   "metadata": {},
   "outputs": [
    {
     "data": {
      "image/png": "[encoded data removed]",
      "text/plain": [
       "<Figure size 432x288 with 1 Axes>"
      ]
     },
     "metadata": {},
     "output_type": "display_data"
    }
   ],
   "source": [
    "plt.bar(moneda_1_frecuencia.keys(), moneda_1_frecuencia.values())\n",
    "plt.show()"
   ]
  },
  {
   "cell_type": "markdown",
   "metadata": {},
   "source": [
    "**Cantidad de bins (grupos) en el histograma**: 2"
   ]
  },
  {
   "cell_type": "markdown",
   "metadata": {},
   "source": [
    "**Espacio muestral**: Conjunto de todas las posibles salidas del experimento. En este caso:\n",
    "\n",
    "'cara', 'seca'"
   ]
  },
  {
   "cell_type": "markdown",
   "metadata": {},
   "source": [
    "## Histograma de Frecuencias Relativas (normalizado) \n",
    "Estimación de la función de masa de probabilidad"
   ]
  },
  {
   "cell_type": "code",
   "execution_count": 9,
   "metadata": {},
   "outputs": [
    {
     "name": "stdout",
     "output_type": "stream",
     "text": [
      "dict_values([486, 514])\n",
      "[486, 514]\n",
      "[486 514]\n"
     ]
    }
   ],
   "source": [
    "print(moneda_1_frecuencia.values())\n",
    "print(list(moneda_1_frecuencia.values()))\n",
    "print(np.array(list(moneda_1_frecuencia.values())))"
   ]
  },
  {
   "cell_type": "code",
   "execution_count": 10,
   "metadata": {},
   "outputs": [
    {
     "data": {
      "image/png": "[encoded data removed]",
      "text/plain": [
       "<Figure size 432x288 with 1 Axes>"
      ]
     },
     "metadata": {},
     "output_type": "display_data"
    }
   ],
   "source": [
    "moneda_1_frecuencia_array = np.array(list(moneda_1_frecuencia.values()))\n",
    "plt.bar(['seca', 'cara'], moneda_1_frecuencia_array/len(moneda_1))\n",
    "plt.show()"
   ]
  },
  {
   "cell_type": "code",
   "execution_count": 32,
   "metadata": {},
   "outputs": [
    {
     "data": {
      "text/plain": [
       "1000"
      ]
     },
     "execution_count": 32,
     "metadata": {},
     "output_type": "execute_result"
    }
   ],
   "source": [
    "len(moneda_1)"
   ]
  },
  {
   "cell_type": "markdown",
   "metadata": {},
   "source": [
    "## Resumimos todo en un método\n",
    "Y lo guardamos en una librería"
   ]
  },
  {
   "cell_type": "code",
   "execution_count": 11,
   "metadata": {},
   "outputs": [],
   "source": [
    "def plot_normalized_histogram(data):\n",
    "    # Grafica y devuleve histograma\n",
    "    frecuencia = Counter(data)\n",
    "    espacio_muestral = frecuencia.keys()\n",
    "    probabilidades_ = np.array(list(frecuencia.values()))/len(data)\n",
    "    plt.bar(espacio_muestral, probabilidades_)\n",
    "    plt.show()\n",
    "    return list(espacio_muestral), probabilidades_"
   ]
  },
  {
   "cell_type": "code",
   "execution_count": 12,
   "metadata": {},
   "outputs": [
    {
     "data": {
      "image/png": "[encoded data removed]",
      "text/plain": [
       "<Figure size 432x288 with 1 Axes>"
      ]
     },
     "metadata": {},
     "output_type": "display_data"
    },
    {
     "data": {
      "text/plain": [
       "(['seca', 'cara'], array([0.486, 0.514]))"
      ]
     },
     "execution_count": 12,
     "metadata": {},
     "output_type": "execute_result"
    }
   ],
   "source": [
    "plot_normalized_histogram(moneda_1)"
   ]
  },
  {
   "cell_type": "code",
   "execution_count": 13,
   "metadata": {},
   "outputs": [
    {
     "data": {
      "image/png": "[encoded data removed]",
      "text/plain": [
       "<Figure size 432x288 with 1 Axes>"
      ]
     },
     "metadata": {},
     "output_type": "display_data"
    },
    {
     "data": {
      "text/plain": [
       "(['seca', 'cara'], array([0.25, 0.75]))"
      ]
     },
     "execution_count": 13,
     "metadata": {},
     "output_type": "execute_result"
    }
   ],
   "source": [
    "plot_normalized_histogram(moneda_2)"
   ]
  },
  {
   "cell_type": "code",
   "execution_count": 14,
   "metadata": {},
   "outputs": [
    {
     "data": {
      "image/png": "[encoded data removed]",
      "text/plain": [
       "<Figure size 432x288 with 1 Axes>"
      ]
     },
     "metadata": {},
     "output_type": "display_data"
    },
    {
     "data": {
      "text/plain": [
       "(['seca', 'cara'], array([0.67, 0.33]))"
      ]
     },
     "execution_count": 14,
     "metadata": {},
     "output_type": "execute_result"
    }
   ],
   "source": [
    "plot_normalized_histogram(moneda_3)"
   ]
  }
 ],
 "metadata": {
  "kernelspec": {
   "display_name": "Python 3",
   "language": "python",
   "name": "python3"
  },
  "language_info": {
   "codemirror_mode": {
    "name": "ipython",
    "version": 3
   },
   "file_extension": ".py",
   "mimetype": "text/x-python",
   "name": "python",
   "nbconvert_exporter": "python",
   "pygments_lexer": "ipython3",
   "version": "3.6.6"
  }
 },
 "nbformat": 4,
 "nbformat_minor": 2
}
