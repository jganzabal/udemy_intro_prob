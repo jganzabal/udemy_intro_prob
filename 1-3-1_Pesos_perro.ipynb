{
 "cells": [
  {
   "cell_type": "markdown",
   "metadata": {},
   "source": [
    "# Dataset Pesos Gran Danés"
   ]
  },
  {
   "cell_type": "markdown",
   "metadata": {},
   "source": [
    "## Importamos librerías"
   ]
  },
  {
   "cell_type": "code",
   "execution_count": 20,
   "metadata": {},
   "outputs": [],
   "source": [
    "import numpy as np\n",
    "from probability_helper import plot_normalized_histogram_sorted\n",
    "from matplotlib import pyplot as plt"
   ]
  },
  {
   "cell_type": "markdown",
   "metadata": {},
   "source": [
    "## Cargamos datos y graficamos"
   ]
  },
  {
   "cell_type": "code",
   "execution_count": 23,
   "metadata": {},
   "outputs": [
    {
     "data": {
      "text/plain": [
       "array([67.36, 54.65, 62.26, 64.9 , 71.34, 65.19, 66.32, 70.06, 60.59,\n",
       "       69.56, 56.42, 64.91, 57.02, 64.74, 54.25, 55.09, 67.24, 84.08,\n",
       "       54.41, 47.  ])"
      ]
     },
     "execution_count": 23,
     "metadata": {},
     "output_type": "execute_result"
    }
   ],
   "source": [
    "gran_danes_pesos = np.load('data/gran_danes_pesos.npy')\n",
    "gran_danes_pesos[:20]"
   ]
  },
  {
   "cell_type": "code",
   "execution_count": 22,
   "metadata": {},
   "outputs": [
    {
     "data": {
      "text/plain": [
       "1000"
      ]
     },
     "execution_count": 22,
     "metadata": {},
     "output_type": "execute_result"
    }
   ],
   "source": [
    "len(gran_danes_pesos)"
   ]
  },
  {
   "cell_type": "markdown",
   "metadata": {},
   "source": [
    "Diferencias con datasets anteriores:\n",
    "- El espacio muestral es continuo. \n",
    "- V.A. Continua\n",
    "- En particular, la precisión es la centésima de Kg"
   ]
  },
  {
   "cell_type": "code",
   "execution_count": 4,
   "metadata": {},
   "outputs": [
    {
     "data": {
      "image/png": "[encoded data removed]",
      "text/plain": [
       "<Figure size 1440x432 with 1 Axes>"
      ]
     },
     "metadata": {},
     "output_type": "display_data"
    }
   ],
   "source": [
    "espacio_muestral_1, probs_gran_danes_pesos_1 = plot_normalized_histogram_sorted(gran_danes_pesos)"
   ]
  },
  {
   "cell_type": "code",
   "execution_count": 36,
   "metadata": {},
   "outputs": [
    {
     "name": "stdout",
     "output_type": "stream",
     "text": [
      "[(60.51, 4), (66.56, 3), (59.77, 3), (66.14, 3), (64.95, 3), (71.1, 3), (63.83, 3), (70.64, 3), (56.15, 3), (65.29, 3), (61.86, 3), (70.06, 2), (60.59, 2), (64.74, 2), (55.09, 2), (67.12, 2), (65.4, 2), (72.72, 2), (55.99, 2), (67.56, 2), (58.05, 2), (74.65, 2), (72.05, 2), (59.9, 2), (62.91, 2), (50.52, 2), (63.55, 2), (46.26, 2), (76.61, 2), (66.94, 2), (59.78, 2), (58.34, 2), (80.0, 2), (70.7, 2), (52.37, 2), (60.15, 2), (71.73, 2), (57.21, 2), (56.63, 2), (52.82, 2), (67.14, 2), (65.66, 2), (63.61, 2), (74.4, 2), (68.26, 2), (65.58, 2), (67.51, 2), (65.16, 2), (68.2, 2), (65.52, 2), (67.61, 2), (55.03, 2), (76.72, 2), (72.32, 2), (53.21, 2), (58.71, 2), (75.12, 2), (68.7, 2), (73.12, 2), (63.69, 2), (68.89, 2), (60.43, 2), (64.4, 2), (54.26, 2), (53.9, 2), (63.86, 2), (58.87, 2), (60.04, 2), (71.19, 2), (67.15, 2), (69.28, 2), (66.82, 2), (55.31, 2), (66.95, 2), (59.22, 2), (72.95, 2), (59.98, 2), (59.93, 2), (66.68, 2), (69.17, 2), (63.8, 2), (65.91, 2), (70.81, 2), (57.22, 2), (58.51, 2), (70.33, 2), (59.2, 2), (64.41, 2), (57.39, 2), (66.03, 2), (69.33, 2), (60.68, 2), (58.04, 2), (68.44, 2), (52.78, 2), (69.08, 2), (65.79, 2), (58.36, 2), (57.2, 2), (61.29, 2), (59.48, 2), (60.38, 2), (73.65, 2), (81.82, 2), (64.92, 2), (61.87, 2), (77.36, 2), (65.76, 2), (64.71, 2), (59.64, 2), (56.66, 2), (77.07, 2), (60.95, 2), (63.45, 2), (67.4, 2), (66.3, 2), (52.66, 2), (56.77, 2), (57.13, 2), (61.31, 2), (70.69, 2), (67.6, 2), (67.49, 2), (70.94, 2), (62.29, 2), (66.65, 2), (68.96, 2), (60.52, 2), (66.62, 2), (58.14, 2), (67.01, 2), (59.81, 2), (66.26, 2), (73.66, 2), (67.27, 2), (73.48, 2), (67.36, 1), (54.65, 1), (62.26, 1), (64.9, 1)]\n"
     ]
    }
   ],
   "source": [
    "from collections import Counter\n",
    "print(Counter(gran_danes_pesos).most_common()[:140])"
   ]
  },
  {
   "cell_type": "markdown",
   "metadata": {},
   "source": [
    "### Cuantos bins tiene nuestro histograma?"
   ]
  },
  {
   "cell_type": "code",
   "execution_count": 39,
   "metadata": {},
   "outputs": [
    {
     "name": "stdout",
     "output_type": "stream",
     "text": [
      "852\n"
     ]
    }
   ],
   "source": [
    "print(len(espacio_muestral_1))"
   ]
  },
  {
   "cell_type": "markdown",
   "metadata": {},
   "source": [
    "852, casi tantos como mediciones de pesos tengo (1000)"
   ]
  },
  {
   "cell_type": "markdown",
   "metadata": {},
   "source": [
    "### Cuantas mediciones caen en cada bin?\n",
    "Claramente no son suficientes mediciones de peso por bin"
   ]
  },
  {
   "cell_type": "code",
   "execution_count": 25,
   "metadata": {},
   "outputs": [
    {
     "name": "stdout",
     "output_type": "stream",
     "text": [
      "[(60.51, 4), (66.56, 3), (59.77, 3), (66.14, 3), (64.95, 3), (71.1, 3), (63.83, 3), (70.64, 3), (56.15, 3), (65.29, 3), (61.86, 3), (70.06, 2), (60.59, 2), (64.74, 2), (55.09, 2), (67.12, 2), (65.4, 2), (72.72, 2), (55.99, 2), (67.56, 2)]\n"
     ]
    }
   ],
   "source": [
    "print(Counter(gran_danes_pesos).most_common()[:20])"
   ]
  },
  {
   "cell_type": "code",
   "execution_count": 40,
   "metadata": {},
   "outputs": [
    {
     "name": "stdout",
     "output_type": "stream",
     "text": [
      "[0.001 0.001 0.001 0.001 0.001 0.001 0.001 0.001 0.001 0.001 0.001 0.001\n",
      " 0.001 0.001 0.001 0.001 0.001 0.001 0.001 0.001 0.001 0.001 0.001 0.001\n",
      " 0.001 0.001 0.001 0.001 0.001 0.001 0.002 0.001 0.001 0.001 0.001 0.001\n",
      " 0.001 0.001 0.001 0.001 0.001 0.001 0.001 0.001 0.001 0.001 0.001 0.001\n",
      " 0.001 0.001 0.001 0.001 0.001 0.001 0.001 0.001 0.001 0.001 0.001 0.001\n",
      " 0.001 0.001 0.001 0.001 0.001 0.001 0.001 0.001 0.001 0.001 0.001 0.001\n",
      " 0.001 0.001 0.001 0.001 0.001 0.001 0.001 0.001 0.002 0.001 0.001 0.001\n",
      " 0.001 0.001 0.001 0.001 0.001 0.001 0.001 0.001 0.001 0.001 0.001 0.001\n",
      " 0.001 0.001 0.001 0.001]\n"
     ]
    }
   ],
   "source": [
    "print(probs_gran_danes_pesos_1[:100])"
   ]
  },
  {
   "cell_type": "markdown",
   "metadata": {},
   "source": [
    "### Es una buena estimación de la probabilidad este histograma normalizado?\n",
    "- El peso ahora es una V.A continua. Por lo que desde un punto teorico podria tomar infinitos puntos entre dos numeros enteros. \n",
    "- Desde un punto de vista práctico la presición de la medición fue de la centésima\n",
    "- La mayoria de las probabilidades estimadas son de 0.001 (1/1000), es decir, una medición de ese peso particular dentro de los 1000"
   ]
  },
  {
   "cell_type": "markdown",
   "metadata": {},
   "source": [
    "## Modelo de Histograma 1 (Agrupamos mediciones):\n",
    "Redondeamos al entero más proximo para reducir la cantidad de bins"
   ]
  },
  {
   "cell_type": "markdown",
   "metadata": {},
   "source": [
    "### Graficamos"
   ]
  },
  {
   "cell_type": "code",
   "execution_count": 42,
   "metadata": {},
   "outputs": [
    {
     "name": "stdout",
     "output_type": "stream",
     "text": [
      "[67. 55. 62. 65. 71. 65. 66. 70. 61. 70. 56. 65. 57. 65. 54. 55. 67. 84.\n",
      " 54. 47. 61. 60. 73. 46. 72. 76. 52. 67. 67. 65. 73. 62. 59. 82. 80. 45.\n",
      " 56. 46. 49. 70. 68. 79. 58. 62. 75. 72. 75. 68. 66. 72. 58. 60. 67. 68.\n",
      " 58. 63. 51. 64. 65. 49. 71. 62. 86. 74. 57. 58. 67. 46. 48. 77. 56. 62.\n",
      " 52. 50. 60. 77. 67. 60. 58. 80. 60. 81. 46. 71. 52. 71. 62. 46. 52. 58.\n",
      " 60. 60. 46. 52. 57. 62. 41. 72. 68. 58.]\n"
     ]
    },
    {
     "data": {
      "image/png": "[encoded data removed]",
      "text/plain": [
       "<Figure size 1440x432 with 1 Axes>"
      ]
     },
     "metadata": {},
     "output_type": "display_data"
    }
   ],
   "source": [
    "gran_danes_pesos_rounded = np.round(gran_danes_pesos)\n",
    "print(gran_danes_pesos_rounded[:100])\n",
    "espacio_muestral_2, probs_gran_danes_pesos_2 = plot_normalized_histogram_sorted(gran_danes_pesos_rounded)"
   ]
  },
  {
   "cell_type": "code",
   "execution_count": 44,
   "metadata": {},
   "outputs": [
    {
     "name": "stdout",
     "output_type": "stream",
     "text": [
      "[(67.0, 62), (66.0, 54), (60.0, 52), (62.0, 48), (65.0, 46), (68.0, 41), (64.0, 39), (61.0, 38), (57.0, 38), (71.0, 35), (70.0, 33), (59.0, 32), (58.0, 31), (56.0, 30), (69.0, 30), (55.0, 24), (74.0, 24), (77.0, 24), (72.0, 23), (73.0, 22)]\n"
     ]
    }
   ],
   "source": [
    "print(Counter(gran_danes_pesos_rounded).most_common()[:20])"
   ]
  },
  {
   "cell_type": "code",
   "execution_count": 9,
   "metadata": {},
   "outputs": [
    {
     "name": "stdout",
     "output_type": "stream",
     "text": [
      "[38. 39. 40. 41. 42. 43. 44. 45. 46. 47. 48. 49. 50. 51. 52. 53. 54. 55.\n",
      " 56. 57. 58. 59. 60. 61. 62. 63. 64. 65. 66. 67. 68. 69. 70. 71. 72. 73.\n",
      " 74. 75. 76. 77. 78. 79. 80. 81. 82. 83. 84. 85. 86. 87. 88. 89. 91. 92.\n",
      " 93.]\n",
      "[0.002 0.001 0.001 0.003 0.006 0.002 0.004 0.004 0.01  0.009 0.012 0.007\n",
      " 0.019 0.014 0.022 0.019 0.021 0.024 0.03  0.038 0.031 0.032 0.052 0.038\n",
      " 0.048 0.022 0.039 0.046 0.054 0.062 0.041 0.03  0.033 0.035 0.023 0.022\n",
      " 0.024 0.018 0.014 0.024 0.009 0.012 0.01  0.008 0.008 0.003 0.002 0.003\n",
      " 0.002 0.001 0.002 0.001 0.001 0.001 0.001]\n",
      "55 18.181818181818183\n"
     ]
    }
   ],
   "source": [
    "print(espacio_muestral_2)\n",
    "print(probs_gran_danes_pesos_2)\n",
    "print(len(espacio_muestral_2), 1000/len(espacio_muestral_2))"
   ]
  },
  {
   "cell_type": "markdown",
   "metadata": {},
   "source": [
    "### Cuantos bins tengo?\n",
    "55, en promedio tengo casi 19 mediciones de pesos por bin (Aunque por ejemplo la que mas tiene esta en el orden de 60)"
   ]
  },
  {
   "cell_type": "markdown",
   "metadata": {},
   "source": [
    "### Modelo"
   ]
  },
  {
   "cell_type": "code",
   "execution_count": 10,
   "metadata": {},
   "outputs": [
    {
     "data": {
      "text/plain": [
       "(55, 55)"
      ]
     },
     "execution_count": 10,
     "metadata": {},
     "output_type": "execute_result"
    }
   ],
   "source": [
    "len(espacio_muestral_2), len(probs_gran_danes_pesos_2)"
   ]
  },
  {
   "cell_type": "markdown",
   "metadata": {},
   "source": [
    "**Tipo de modelo**: De histograma -> Modelo no paramétrico   \n",
    "**Cantidad de parámetros estimados**: 55  \n",
    "**Espacio muestral**: Todos los enteros desde 38 hasta 93"
   ]
  },
  {
   "cell_type": "code",
   "execution_count": 45,
   "metadata": {},
   "outputs": [
    {
     "name": "stdout",
     "output_type": "stream",
     "text": [
      "[0.002 0.001 0.001 0.003 0.006 0.002 0.004 0.004 0.01  0.009 0.012 0.007\n",
      " 0.019 0.014 0.022 0.019 0.021 0.024 0.03  0.038 0.031 0.032 0.052 0.038\n",
      " 0.048 0.022 0.039 0.046 0.054 0.062 0.041 0.03  0.033 0.035 0.023 0.022\n",
      " 0.024 0.018 0.014 0.024 0.009 0.012 0.01  0.008 0.008 0.003 0.002 0.003\n",
      " 0.002 0.001 0.002 0.001 0.001 0.001 0.001]\n"
     ]
    }
   ],
   "source": [
    "print(probs_gran_danes_pesos_2)"
   ]
  },
  {
   "cell_type": "markdown",
   "metadata": {},
   "source": [
    "### Modelo generador:"
   ]
  },
  {
   "cell_type": "code",
   "execution_count": 46,
   "metadata": {},
   "outputs": [
    {
     "data": {
      "text/plain": [
       "array([74., 73., 68., ..., 57., 73., 56.])"
      ]
     },
     "execution_count": 46,
     "metadata": {},
     "output_type": "execute_result"
    }
   ],
   "source": [
    "np.random.choice(espacio_muestral_2,  size = 6000, p = probs_gran_danes_pesos_2, replace=True)"
   ]
  },
  {
   "cell_type": "markdown",
   "metadata": {},
   "source": [
    "## Modelo de Histograma 2:\n",
    "Redondeo al **entero par** mas cercano"
   ]
  },
  {
   "cell_type": "code",
   "execution_count": 13,
   "metadata": {},
   "outputs": [],
   "source": [
    "pesos_por_2kg = np.round(gran_danes_pesos/2)*2"
   ]
  },
  {
   "cell_type": "code",
   "execution_count": 49,
   "metadata": {},
   "outputs": [
    {
     "name": "stdout",
     "output_type": "stream",
     "text": [
      "[68. 54. 62. 64. 72. 66. 66. 70. 60. 70. 56. 64. 58. 64. 54. 56. 68. 84.\n",
      " 54. 48. 62. 60. 72. 46. 72. 76. 52. 66. 68. 66. 72. 62. 58. 82. 80. 44.\n",
      " 56. 46. 50. 70. 68. 78. 58. 62. 74. 72. 74. 68. 66. 72. 58. 60. 66. 68.\n",
      " 58. 62. 50. 64. 66. 50. 72. 62. 86. 74. 56. 58. 68. 46. 48. 78. 56. 62.\n",
      " 52. 50. 60. 76. 66. 60. 58. 80. 60. 82. 46. 70. 52. 70. 62. 46. 52. 58.\n",
      " 60. 60. 46. 52. 58. 62. 40. 72. 68. 58.]\n"
     ]
    },
    {
     "data": {
      "image/png": "[encoded data removed]",
      "text/plain": [
       "<Figure size 1440x432 with 1 Axes>"
      ]
     },
     "metadata": {},
     "output_type": "display_data"
    }
   ],
   "source": [
    "print(pesos_por_2kg[:100])\n",
    "espacio_muestral_3, probs_gran_danes_pesos_3 = plot_normalized_histogram_sorted(pesos_por_2kg)"
   ]
  },
  {
   "cell_type": "code",
   "execution_count": 50,
   "metadata": {},
   "outputs": [
    {
     "name": "stdout",
     "output_type": "stream",
     "text": [
      "[(66.0, 103), (60.0, 93), (68.0, 85), (64.0, 78), (62.0, 74), (70.0, 71), (56.0, 67), (58.0, 62), (72.0, 47), (74.0, 46), (52.0, 42), (54.0, 34), (76.0, 32), (78.0, 30), (50.0, 29), (48.0, 23), (80.0, 22), (46.0, 12), (82.0, 10), (44.0, 9)]\n"
     ]
    }
   ],
   "source": [
    "print(Counter(pesos_por_2kg).most_common()[:20])"
   ]
  },
  {
   "cell_type": "code",
   "execution_count": 51,
   "metadata": {},
   "outputs": [
    {
     "name": "stdout",
     "output_type": "stream",
     "text": [
      "[38. 40. 42. 44. 46. 48. 50. 52. 54. 56. 58. 60. 62. 64. 66. 68. 70. 72.\n",
      " 74. 76. 78. 80. 82. 84. 86. 88. 90. 92. 94.]\n",
      "[0.003 0.004 0.007 0.009 0.012 0.023 0.029 0.042 0.034 0.067 0.062 0.093\n",
      " 0.074 0.078 0.103 0.085 0.071 0.047 0.046 0.032 0.03  0.022 0.01  0.006\n",
      " 0.004 0.003 0.001 0.002 0.001]\n",
      "29 34.48275862068966\n"
     ]
    }
   ],
   "source": [
    "print(espacio_muestral_3)\n",
    "print(probs_gran_danes_pesos_3)\n",
    "print(len(espacio_muestral_3), 1000/len(espacio_muestral_3))"
   ]
  },
  {
   "cell_type": "markdown",
   "metadata": {},
   "source": [
    "### Cuantos bins tengo?"
   ]
  },
  {
   "cell_type": "markdown",
   "metadata": {},
   "source": [
    "29, en promedio cerca de 35 mediciones de pesos por bin"
   ]
  },
  {
   "cell_type": "markdown",
   "metadata": {},
   "source": [
    "### Modelo"
   ]
  },
  {
   "cell_type": "markdown",
   "metadata": {},
   "source": [
    "**Tipo de modelo**: De histograma  \n",
    "**Cantidad de parámetros estimados**: 29  \n",
    "**Espacio muestral**: Todos los pares desde 38 hasta 94"
   ]
  },
  {
   "cell_type": "markdown",
   "metadata": {},
   "source": [
    "Reducimos la cantidad de parametros a casi la mitad pero nuestro modelo solo genera la mitad de nuestro espacio muestral, es decir, perdemos resolución en el peso"
   ]
  },
  {
   "cell_type": "markdown",
   "metadata": {},
   "source": [
    "## Histograma"
   ]
  },
  {
   "cell_type": "markdown",
   "metadata": {},
   "source": [
    "Los anteriores eran histogramas de frecuencias relativas"
   ]
  },
  {
   "cell_type": "code",
   "execution_count": 55,
   "metadata": {},
   "outputs": [
    {
     "data": {
      "image/png": "[encoded data removed]",
      "text/plain": [
       "<Figure size 1440x720 with 1 Axes>"
      ]
     },
     "metadata": {},
     "output_type": "display_data"
    },
    {
     "data": {
      "text/plain": [
       "(1.0, 1.0)"
      ]
     },
     "execution_count": 55,
     "metadata": {},
     "output_type": "execute_result"
    }
   ],
   "source": [
    "plt.figure(figsize=(20,10))\n",
    "plt.bar(espacio_muestral_2, probs_gran_danes_pesos_2, color = 'r')\n",
    "plt.bar(espacio_muestral_3, probs_gran_danes_pesos_3, color = 'y', alpha=0.8)\n",
    "plt.show()\n",
    "probs_gran_danes_pesos_2.sum(), probs_gran_danes_pesos_3.sum()"
   ]
  },
  {
   "cell_type": "markdown",
   "metadata": {},
   "source": [
    "Se puede ver que el amarillo en promedio tiene el doble de altura que el rojo.\n",
    "Por que?\n",
    "- Por ejemplo, la barra en la posición 60 indicaría la probabilidad de que el peso este entre 59.5 y 61.5 para el amarillo, mientras que en el rojo indicaría la probabiliad de que el peso este entre 59.5 y 60.5"
   ]
  },
  {
   "cell_type": "markdown",
   "metadata": {},
   "source": [
    "Para poder compararlos podemos graficar la probabilidad por unidad de peso"
   ]
  },
  {
   "cell_type": "code",
   "execution_count": 17,
   "metadata": {},
   "outputs": [
    {
     "data": {
      "image/png": "[encoded data removed]",
      "text/plain": [
       "<Figure size 1440x720 with 1 Axes>"
      ]
     },
     "metadata": {},
     "output_type": "display_data"
    }
   ],
   "source": [
    "# Notar que dividimos probs_gran_danes_pesos_3 por 2\n",
    "plt.figure(figsize=(20,10))\n",
    "plt.bar(espacio_muestral_2, probs_gran_danes_pesos_2, color = 'r')\n",
    "plt.bar(espacio_muestral_3, probs_gran_danes_pesos_3/2, color = 'y', alpha=0.8)\n",
    "plt.show()"
   ]
  },
  {
   "cell_type": "markdown",
   "metadata": {},
   "source": [
    "Aclaración:\n",
    "\n",
    "Python tiene la función histograma que se puede utilizar para graficar y calcularlos\n",
    "- np.histogram (https://docs.scipy.org/doc/numpy-1.13.0/reference/generated/numpy.histogram.html)\n",
    "- plt.hist (https://matplotlib.org/api/_as_gen/matplotlib.pyplot.hist.html)"
   ]
  }
 ],
 "metadata": {
  "kernelspec": {
   "display_name": "Python 3",
   "language": "python",
   "name": "python3"
  },
  "language_info": {
   "codemirror_mode": {
    "name": "ipython",
    "version": 3
   },
   "file_extension": ".py",
   "mimetype": "text/x-python",
   "name": "python",
   "nbconvert_exporter": "python",
   "pygments_lexer": "ipython3",
   "version": "3.6.6"
  }
 },
 "nbformat": 4,
 "nbformat_minor": 2
}
