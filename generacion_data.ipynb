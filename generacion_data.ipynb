{
 "cells": [
  {
   "cell_type": "code",
   "execution_count": 40,
   "metadata": {},
   "outputs": [],
   "source": [
    "import numpy as np"
   ]
  },
  {
   "cell_type": "code",
   "execution_count": 41,
   "metadata": {},
   "outputs": [],
   "source": [
    "from collections import Counter"
   ]
  },
  {
   "cell_type": "markdown",
   "metadata": {},
   "source": [
    "# Monedas"
   ]
  },
  {
   "cell_type": "code",
   "execution_count": 214,
   "metadata": {},
   "outputs": [],
   "source": [
    "moneda_1 = 1*(np.random.random(1000)>0.5)\n",
    "moneda_2 = 1*(np.random.random(1000)>0.25)\n",
    "moneda_3 = 1*(np.random.random(1000)>0.66)"
   ]
  },
  {
   "cell_type": "code",
   "execution_count": 215,
   "metadata": {},
   "outputs": [],
   "source": [
    "moneda_1_text = np.array(moneda_1).astype('str')\n",
    "moneda_2_text = np.array(moneda_2).astype('str')\n",
    "moneda_3_text = np.array(moneda_3).astype('str')"
   ]
  },
  {
   "cell_type": "code",
   "execution_count": 216,
   "metadata": {},
   "outputs": [],
   "source": [
    "moneda_1_text[moneda_1==0] = 'seca'\n",
    "moneda_1_text[moneda_1==1] = 'cara'\n",
    "moneda_2_text[moneda_2==0] = 'seca'\n",
    "moneda_2_text[moneda_2==1] = 'cara'\n",
    "moneda_3_text[moneda_3==0] = 'seca'\n",
    "moneda_3_text[moneda_3==1] = 'cara'"
   ]
  },
  {
   "cell_type": "code",
   "execution_count": 217,
   "metadata": {},
   "outputs": [
    {
     "name": "stdout",
     "output_type": "stream",
     "text": [
      "Counter({'cara': 514, 'seca': 486})\n",
      "Counter({'cara': 750, 'seca': 250})\n",
      "Counter({'seca': 670, 'cara': 330})\n"
     ]
    }
   ],
   "source": [
    "print(Counter(moneda_1_text))\n",
    "print(Counter(moneda_2_text))\n",
    "print(Counter(moneda_3_text))"
   ]
  },
  {
   "cell_type": "code",
   "execution_count": 218,
   "metadata": {},
   "outputs": [],
   "source": [
    "np.save('data/coin_1', moneda_1_text)\n",
    "np.save('data/coin_2', moneda_2_text)\n",
    "np.save('data/coin_3', moneda_3_text)"
   ]
  },
  {
   "cell_type": "markdown",
   "metadata": {},
   "source": [
    "# Dado"
   ]
  },
  {
   "cell_type": "code",
   "execution_count": 230,
   "metadata": {},
   "outputs": [],
   "source": [
    "dado_1 = np.random.randint(1,7, 6000)"
   ]
  },
  {
   "cell_type": "code",
   "execution_count": 231,
   "metadata": {},
   "outputs": [
    {
     "name": "stdout",
     "output_type": "stream",
     "text": [
      "Counter({1: 1043, 2: 1013, 4: 1005, 6: 1000, 5: 982, 3: 957})\n"
     ]
    }
   ],
   "source": [
    "print(Counter(dado_1))"
   ]
  },
  {
   "cell_type": "code",
   "execution_count": 287,
   "metadata": {},
   "outputs": [],
   "source": [
    "espacio_muestral = [1,2,3,4,5,6]\n",
    "probabilidades = [0.025, 0.075, 0.15, 0.2, 0.25, 0.3]"
   ]
  },
  {
   "cell_type": "code",
   "execution_count": 288,
   "metadata": {},
   "outputs": [
    {
     "data": {
      "text/plain": [
       "1.0"
      ]
     },
     "execution_count": 288,
     "metadata": {},
     "output_type": "execute_result"
    }
   ],
   "source": [
    "np.array(probabilidades).sum()"
   ]
  },
  {
   "cell_type": "code",
   "execution_count": 289,
   "metadata": {},
   "outputs": [],
   "source": [
    "dado_2 = np.random.choice(espacio_muestral,  size = 6000, p = probabilidades)"
   ]
  },
  {
   "cell_type": "code",
   "execution_count": 290,
   "metadata": {},
   "outputs": [
    {
     "name": "stdout",
     "output_type": "stream",
     "text": [
      "Counter({6: 1817, 5: 1474, 4: 1194, 3: 919, 2: 438, 1: 158})\n"
     ]
    }
   ],
   "source": [
    "print(Counter(dado_2))"
   ]
  },
  {
   "cell_type": "code",
   "execution_count": 291,
   "metadata": {},
   "outputs": [],
   "source": [
    "np.save('data/dado_1', dado_1)\n",
    "np.save('data/dado_2', dado_2)"
   ]
  },
  {
   "cell_type": "code",
   "execution_count": 111,
   "metadata": {},
   "outputs": [],
   "source": [
    "lbs2kg = 0.453592"
   ]
  },
  {
   "cell_type": "code",
   "execution_count": 324,
   "metadata": {},
   "outputs": [],
   "source": [
    "import pandas as pd\n",
    "df = pd.read_csv('data/dogs_breads.csv')"
   ]
  },
  {
   "cell_type": "code",
   "execution_count": 325,
   "metadata": {},
   "outputs": [
    {
     "data": {
      "text/plain": [
       "0.453592"
      ]
     },
     "execution_count": 325,
     "metadata": {},
     "output_type": "execute_result"
    }
   ],
   "source": [
    "lbs2kg"
   ]
  },
  {
   "cell_type": "code",
   "execution_count": 326,
   "metadata": {},
   "outputs": [
    {
     "data": {
      "text/plain": [
       "Breed                 Rottweiler\n",
       "height_low_inches             22\n",
       "height_high_inches            27\n",
       "weight_low_lbs                90\n",
       "weight_high_lbs              110\n",
       "Name: 15, dtype: object"
      ]
     },
     "execution_count": 326,
     "metadata": {},
     "output_type": "execute_result"
    }
   ],
   "source": [
    "df.loc[15]"
   ]
  },
  {
   "cell_type": "code",
   "execution_count": 327,
   "metadata": {},
   "outputs": [
    {
     "data": {
      "text/plain": [
       "Breed                 Great Dane\n",
       "height_low_inches             32\n",
       "height_high_inches            32\n",
       "weight_low_lbs               120\n",
       "weight_high_lbs              160\n",
       "Name: 6, dtype: object"
      ]
     },
     "execution_count": 327,
     "metadata": {},
     "output_type": "execute_result"
    }
   ],
   "source": [
    "df.loc[6]"
   ]
  },
  {
   "cell_type": "code",
   "execution_count": 328,
   "metadata": {},
   "outputs": [
    {
     "data": {
      "text/plain": [
       "Breed                 Boxer\n",
       "height_low_inches        21\n",
       "height_high_inches       25\n",
       "weight_low_lbs           65\n",
       "weight_high_lbs          70\n",
       "Name: 27, dtype: object"
      ]
     },
     "execution_count": 328,
     "metadata": {},
     "output_type": "execute_result"
    }
   ],
   "source": [
    "df.loc[27]"
   ]
  },
  {
   "cell_type": "code",
   "execution_count": 329,
   "metadata": {},
   "outputs": [],
   "source": [
    "def get_mean_var(ind = 6):\n",
    "    low = int(df.loc[ind]['weight_low_lbs'])*lbs2kg\n",
    "    high = int(df.loc[ind]['weight_high_lbs'])*lbs2kg\n",
    "    mean = (low + high)/2\n",
    "    std = high - mean\n",
    "    return mean, std"
   ]
  },
  {
   "cell_type": "code",
   "execution_count": 330,
   "metadata": {},
   "outputs": [
    {
     "data": {
      "text/plain": [
       "(63.50288, 9.071840000000002)"
      ]
     },
     "execution_count": 330,
     "metadata": {},
     "output_type": "execute_result"
    }
   ],
   "source": [
    "get_mean_var()"
   ]
  },
  {
   "cell_type": "code",
   "execution_count": 332,
   "metadata": {},
   "outputs": [],
   "source": [
    "N = 1000\n",
    "Gran_Danes_pesos = (100*np.random.normal(*get_mean_var(6), N)).astype(int)/100\n",
    "Rottweiler_pesos = (100*np.random.normal(*get_mean_var(15), N)).astype(int)/100\n",
    "Boxer_pesos = (100*np.random.normal(*get_mean_var(27), N)).astype(int)/100"
   ]
  },
  {
   "cell_type": "code",
   "execution_count": 333,
   "metadata": {},
   "outputs": [],
   "source": [
    "Gran_Danes_pesos_F = Counter(Gran_Danes_pesos)\n",
    "Rottweiler_pesos_F = Counter(Rottweiler_pesos)\n",
    "Boxer_pesos_F = Counter(Boxer_pesos)"
   ]
  },
  {
   "cell_type": "code",
   "execution_count": 334,
   "metadata": {},
   "outputs": [],
   "source": [
    "from matplotlib import pyplot as plt"
   ]
  },
  {
   "cell_type": "code",
   "execution_count": 335,
   "metadata": {},
   "outputs": [
    {
     "data": {
      "image/png": "[encoded data removed]",
      "text/plain": [
       "<matplotlib.figure.Figure at 0x11fec4fd0>"
      ]
     },
     "metadata": {},
     "output_type": "display_data"
    }
   ],
   "source": [
    "plt.bar(Gran_Danes_pesos_F.keys(), Gran_Danes_pesos_F.values(), color = 'r')\n",
    "plt.bar(Rottweiler_pesos_F.keys(), Rottweiler_pesos_F.values(), color = 'b')\n",
    "plt.bar(Boxer_pesos_F.keys(), Boxer_pesos_F.values(), color = 'g')\n",
    "plt.show()"
   ]
  },
  {
   "cell_type": "code",
   "execution_count": 336,
   "metadata": {},
   "outputs": [],
   "source": [
    "np.save('data/gran_danes_pesos', Gran_Danes_pesos)\n",
    "np.save('data/Rottweiler_pesos', Rottweiler_pesos)\n",
    "np.save('data/Boxer_pesos', Boxer_pesos)"
   ]
  },
  {
   "cell_type": "code",
   "execution_count": null,
   "metadata": {},
   "outputs": [],
   "source": []
  }
 ],
 "metadata": {
  "kernelspec": {
   "display_name": "Python 3",
   "language": "python",
   "name": "python3"
  },
  "language_info": {
   "codemirror_mode": {
    "name": "ipython",
    "version": 3
   },
   "file_extension": ".py",
   "mimetype": "text/x-python",
   "name": "python",
   "nbconvert_exporter": "python",
   "pygments_lexer": "ipython3",
   "version": "3.6.2"
  }
 },
 "nbformat": 4,
 "nbformat_minor": 2
}
