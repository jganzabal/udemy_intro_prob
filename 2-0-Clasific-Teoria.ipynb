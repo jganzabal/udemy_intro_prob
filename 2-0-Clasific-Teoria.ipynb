{
 "cells": [
  {
   "cell_type": "markdown",
   "metadata": {},
   "source": [
    "# Clasificación"
   ]
  },
  {
   "cell_type": "markdown",
   "metadata": {},
   "source": [
    "$\\large \\underset{C_i}{arg \\ max} \\{P(C_i|X_0, X_1, ..., X_N)\\}$"
   ]
  },
  {
   "cell_type": "markdown",
   "metadata": {},
   "source": [
    "# Regresión Logística (Clasificación Binaria)"
   ]
  },
  {
   "cell_type": "markdown",
   "metadata": {},
   "source": [
    "$\\large P(C_0|X_0, X_1, ..., X_N; W) = \\frac{1}{1+e^{-(w_0+w_1X_1+...+w_NX_N)}}$\n",
    "\n",
    "$P(C_0|X_0, X_1, ..., X_N; W) = p$\n",
    "\n",
    "$P(C_1|X_0, X_1, ..., X_N; W) = 1-p$"
   ]
  },
  {
   "cell_type": "markdown",
   "metadata": {},
   "source": [
    "## Log odds"
   ]
  },
  {
   "cell_type": "markdown",
   "metadata": {},
   "source": [
    "\\begin{equation}\n",
    "\\large log\\{\\frac{p}{1-p}\\} = w_0+w_1X_1+...+w_NX_N\n",
    "\\end{equation}"
   ]
  },
  {
   "cell_type": "markdown",
   "metadata": {},
   "source": [
    "# Regla de Bayes"
   ]
  },
  {
   "cell_type": "markdown",
   "metadata": {},
   "source": [
    "\\begin{equation}\n",
    "P(C_i|X_0, X_1, ..., X_N) = \\frac{P(X_0, X_1, ..., X_N|C_i)P(C_i)}{P(X_0, X_1, ..., X_N)}\n",
    "\\end{equation}"
   ]
  },
  {
   "cell_type": "markdown",
   "metadata": {},
   "source": [
    "## Log Odds"
   ]
  },
  {
   "cell_type": "markdown",
   "metadata": {},
   "source": [
    "$P(C_0|X_0, X_1, ..., X_N) = p$\n",
    "\n",
    "$P(C_1|X_0, X_1, ..., X_N) = 1-p$\n",
    "\n",
    "\\begin{equation}\n",
    "\\large \\frac{p}{1-p}\\ = \\frac{P(X_0, X_1, ..., X_N|C_0)P(C_0)}{P(X_0, X_1, ..., X_N|C_1)P(C_1)}\n",
    "\\end{equation}"
   ]
  }
 ],
 "metadata": {
  "kernelspec": {
   "display_name": "Python 3",
   "language": "python",
   "name": "python3"
  },
  "language_info": {
   "codemirror_mode": {
    "name": "ipython",
    "version": 3
   },
   "file_extension": ".py",
   "mimetype": "text/x-python",
   "name": "python",
   "nbconvert_exporter": "python",
   "pygments_lexer": "ipython3",
   "version": "3.6.6"
  }
 },
 "nbformat": 4,
 "nbformat_minor": 2
}
