{
 "cells": [
  {
   "cell_type": "code",
   "execution_count": 1,
   "metadata": {},
   "outputs": [],
   "source": [
    "# Estos dos comandos evitan que haya que hacer reload cada vez que se modifica un paquete\n",
    "%load_ext autoreload\n",
    "%autoreload 2\n",
    "%config InlineBackend.figure_format = 'retina'"
   ]
  },
  {
   "cell_type": "markdown",
   "metadata": {},
   "source": [
    "Anotaciones:\n",
    "Desde el lado de Estadistica querriamos ver que tan bueno se aproxima a una gaussiana. Desde ML que tan bien generaliza"
   ]
  },
  {
   "cell_type": "code",
   "execution_count": 2,
   "metadata": {},
   "outputs": [],
   "source": [
    "import pandas as pd\n",
    "import numpy as np\n",
    "from matplotlib import pyplot as plt\n",
    "import pandas as pd\n",
    "from collections import Counter\n",
    "from mpl_toolkits.mplot3d import Axes3D"
   ]
  },
  {
   "cell_type": "code",
   "execution_count": 3,
   "metadata": {},
   "outputs": [],
   "source": [
    "data = pd.read_csv('data/alturas-pesos-mils-train.csv')[:100]"
   ]
  },
  {
   "cell_type": "code",
   "execution_count": 4,
   "metadata": {},
   "outputs": [],
   "source": [
    "test = pd.read_csv('data/alturas-pesos-mils-test.csv')"
   ]
  },
  {
   "cell_type": "code",
   "execution_count": 5,
   "metadata": {},
   "outputs": [],
   "source": [
    "from BiVariateJoint import BiVariateJoint"
   ]
  },
  {
   "cell_type": "code",
   "execution_count": 6,
   "metadata": {},
   "outputs": [],
   "source": [
    "data_hombres = data.loc[data['Genero']=='Hombre'][['Peso','Altura']].values\n",
    "data_mujeres = data.loc[data['Genero']=='Mujer'][['Peso','Altura']].values"
   ]
  },
  {
   "cell_type": "markdown",
   "metadata": {},
   "source": [
    "# Grafico los datos"
   ]
  },
  {
   "cell_type": "code",
   "execution_count": null,
   "metadata": {},
   "outputs": [],
   "source": [
    "%matplotlib qt\n",
    "f = plt.figure(figsize=(20,10))\n",
    "plt.scatter(data_hombres[:,0], data_hombres[:,1], color='b', s=2, label='Hombres')\n",
    "plt.scatter(data_mujeres[:,0], data_mujeres[:,1], color='r', s=2, label='Mujeres')\n",
    "plt.xlabel('Pesos [cms]')\n",
    "plt.ylabel('Alturas [cms]')\n",
    "plt.legend()\n",
    "plt.show()"
   ]
  },
  {
   "cell_type": "markdown",
   "metadata": {},
   "source": [
    "# Regla de Bayes (Discreto)\n",
    "\\begin{equation}\n",
    "C_0  \\rightarrow Hombre \\\\\n",
    "C_1 \\rightarrow Mujer \\\\\n",
    "X_1 \\rightarrow Peso \\\\\n",
    "X_2 \\rightarrow Altura \\\\\n",
    "\\end{equation}\n",
    "\n",
    "\\begin{equation}\n",
    "P(C_0 | X_1, X_2) = \\frac{P(X_1,X_2 | C_0) P(C_0)}{P(X_1,X_2)} \\\\\n",
    "\\end{equation}\n",
    "\n",
    "\\begin{equation}\n",
    "P(C_1 | X_1, X_2) = \\frac{P(X_1,X_2 | C_1) P(C_1)}{P(X_1,X_2)}\n",
    "\\end{equation}"
   ]
  },
  {
   "cell_type": "markdown",
   "metadata": {},
   "source": [
    "\\begin{equation}\n",
    "P(C_0 | X_1, X_2)  \\rightarrow p \\\\\n",
    "P(C_1 | X_1, X_2) \\rightarrow (1-p) \\\\\n",
    "\\end{equation}\n",
    "### Log-odds\n",
    "\\begin{equation}\n",
    "\\frac{p}{1-p} = \\frac{P(X_1,X_2 | C_0) P(C_0)}{\n",
    " P(X_1,X_2 | C_1) P(C_1)}\n",
    "\\end{equation}"
   ]
  },
  {
   "cell_type": "markdown",
   "metadata": {},
   "source": [
    "Que tenemos?\n",
    "\\begin{equation}\n",
    "P(Hombre) = \\frac{N_{H}}{N_H + N_M} \\quad\n",
    "\\end{equation}\n",
    "\n",
    "\\begin{equation}\n",
    "P(Mujer) = \\frac{N_{M}}{N_H + N_M} \\quad\n",
    "\\end{equation}\n",
    "\n",
    "\n",
    "\\begin{equation}\n",
    "\\large\n",
    "P(X_1,X_2) = P(X_1,X_2 | Mujer) P(Mujer) + P(X_1,X_2 | Hombre) P(Hombre)\n",
    "\\end{equation}"
   ]
  },
  {
   "cell_type": "markdown",
   "metadata": {},
   "source": [
    "Con estimar:\n",
    "\\begin{equation}\n",
    "P(X_1,X_2 | Mujer) \\quad y \\quad\n",
    "P(X_1,X_2 | Hombre) \n",
    "\\end{equation}"
   ]
  },
  {
   "cell_type": "markdown",
   "metadata": {},
   "source": [
    "## Estimación de $P(X_1,X_2 | Género)$ como histogramas"
   ]
  },
  {
   "cell_type": "markdown",
   "metadata": {},
   "source": [
    "\\begin{equation}\n",
    "P(X_1 = x_1,X_2 = x_2 | Hombre) = \\frac{N_{x_1x_2H}}{N_H}\n",
    "\\end{equation}\n",
    "\n",
    "\\begin{equation}\n",
    "P(X_1 = x_1,X_2 = x_2 | Mujer) = \\frac{N_{x_1x_2M}}{N_M}\n",
    "\\end{equation}"
   ]
  },
  {
   "cell_type": "markdown",
   "metadata": {},
   "source": [
    "### Resolución del histograma (Cantidad de Bins o Grupos)"
   ]
  },
  {
   "cell_type": "code",
   "execution_count": 7,
   "metadata": {},
   "outputs": [],
   "source": [
    "from BiVariateJoint import get_class_prob"
   ]
  },
  {
   "cell_type": "code",
   "execution_count": 8,
   "metadata": {},
   "outputs": [],
   "source": [
    "step = 2\n",
    "maxs = np.round(data[['Peso','Altura']].values.max(axis = 0))\n",
    "mins = np.round(data[['Peso','Altura']].values.min(axis = 0))\n",
    "\n",
    "joint_hombres = BiVariateJoint(data_hombres, \n",
    "                               step_X = step, \n",
    "                               step_Y = step,\n",
    "                               mins = mins, \n",
    "                               maxs = maxs\n",
    "                              )\n",
    "joint_mujeres = BiVariateJoint(data_mujeres, \n",
    "                               step_X = step, \n",
    "                               step_Y = step,\n",
    "                               mins = mins, \n",
    "                               maxs = maxs)"
   ]
  },
  {
   "cell_type": "code",
   "execution_count": 9,
   "metadata": {},
   "outputs": [],
   "source": [
    "%matplotlib qt\n",
    "fig = plt.figure(figsize=(20,10))\n",
    "ax = fig.add_subplot(111)\n",
    "ax.scatter(joint_hombres.data_rounded[:,0], joint_hombres.data_rounded[:,1], color='b', s=200 * step, marker='s', alpha=0.01)\n",
    "ax.scatter(joint_hombres.data[:,0], joint_hombres.data[:,1], color='b', s=1,  alpha=1, label='Hombres')\n",
    "ax.scatter(joint_mujeres.data_rounded[:,0], joint_mujeres.data_rounded[:,1], color='r', s=200 * step, marker='s', alpha=0.01)\n",
    "ax.scatter(joint_mujeres.data[:,0], joint_mujeres.data[:,1], color='r', s=1,  alpha=1, label='Mujeres')\n",
    "plt.xlabel('Pesos [cms]')\n",
    "plt.ylabel('Alturas [cms]')\n",
    "plt.legend()\n",
    "plt.show()"
   ]
  },
  {
   "cell_type": "code",
   "execution_count": 16,
   "metadata": {},
   "outputs": [],
   "source": [
    "def getAxis():\n",
    "    fig = plt.figure(figsize=(20,10))\n",
    "    ax1 = fig.add_subplot(121, projection='3d')\n",
    "    ax2 = fig.add_subplot(122, projection='3d')\n",
    "    ax1.set_aspect('equal')\n",
    "    ax2.set_aspect('equal')\n",
    "    ax1.set_xlabel('Pesos [cms]')\n",
    "    ax1.set_ylabel('Alturas [cms]')\n",
    "    ax2.set_xlabel('Pesos [kgs]')\n",
    "    ax2.set_ylabel('Alturas [cms]')\n",
    "    ax2.set_zlabel('Frecuencia')\n",
    "    fig.tight_layout()\n",
    "    return ax1, ax2"
   ]
  },
  {
   "cell_type": "code",
   "execution_count": null,
   "metadata": {},
   "outputs": [],
   "source": [
    "%matplotlib qt\n",
    "ax1, ax2 = getAxis()\n",
    "joint_hombres.plot_joint_3d(ax=ax1, color='b', el=20, az=-5, title='Hombres')\n",
    "joint_mujeres.plot_joint_3d(ax=ax2, color='r', el=20, az=-5, title='Mujeres')"
   ]
  },
  {
   "cell_type": "markdown",
   "metadata": {},
   "source": [
    "## Calculo a posteriori"
   ]
  },
  {
   "cell_type": "markdown",
   "metadata": {},
   "source": [
    "\\begin{equation}\n",
    "P(Hombre | X_1, X_2) = \\frac{P(X_1,X_2 | Hombre) P(Hombre)}{P(X_1,X_2)} \\\\\n",
    "\\end{equation}\n"
   ]
  },
  {
   "cell_type": "code",
   "execution_count": 22,
   "metadata": {},
   "outputs": [
    {
     "name": "stdout",
     "output_type": "stream",
     "text": [
      "0.83\n"
     ]
    }
   ],
   "source": [
    "p_class_1, p_class_2 = get_class_prob(data['Peso'].values, data['Altura'].values, joint_hombres, joint_mujeres)\n",
    "acc_train_bayes = ((p_class_1>p_class_2) == (data['Genero'].values == 'Hombre')).sum()/len(data)\n",
    "print(acc_train_bayes)"
   ]
  },
  {
   "cell_type": "code",
   "execution_count": 23,
   "metadata": {},
   "outputs": [
    {
     "name": "stdout",
     "output_type": "stream",
     "text": [
      "0.6215\n"
     ]
    }
   ],
   "source": [
    "p_class_1, p_class_2 = get_class_prob(test['Peso'].values, test['Altura'].values, joint_hombres, joint_mujeres)\n",
    "acc_cv_bayes = ((p_class_1>p_class_2) == (test['Genero'].values == 'Hombre')).sum()/len(test)\n",
    "print(acc_cv_bayes)"
   ]
  },
  {
   "cell_type": "markdown",
   "metadata": {},
   "source": [
    "# Las clases en el plano"
   ]
  },
  {
   "cell_type": "code",
   "execution_count": 24,
   "metadata": {},
   "outputs": [],
   "source": [
    "%matplotlib qt\n",
    "from matplotlib.colors import ListedColormap\n",
    "X, Y = np.meshgrid(joint_hombres.X, joint_hombres.Y)\n",
    "Z = np.zeros(X.shape)\n",
    "for i in range(X.shape[0]):\n",
    "    Z[i] = get_class_prob(X[i], Y[i], joint_hombres, joint_mujeres)[0]\n",
    "    \n",
    "fig = plt.figure(figsize=(20,10))\n",
    "ax = fig.gca()\n",
    "cm = plt.cm.RdBu\n",
    "cf = ax.contourf(X, Y, Z, 256, alpha=.8, vmin=0., vmax=1., cmap=cm)\n",
    "plt.colorbar(cf, ax=ax)\n",
    "ax.set_title('TRAIN: ' + str(np.round(acc_train_bayes*100)/100) + ' - CV:' + str(np.round(acc_cv_bayes*100)/100) +' - Step: '+str(step))\n",
    "ax.set_xlabel('Pesos [kgs]')\n",
    "ax.set_ylabel('Alturas [cms]')\n",
    "plt.show()"
   ]
  },
  {
   "cell_type": "markdown",
   "metadata": {},
   "source": [
    "# Acc en función del step"
   ]
  },
  {
   "cell_type": "code",
   "execution_count": 10,
   "metadata": {},
   "outputs": [],
   "source": [
    "train_acc = []\n",
    "test_acc = []\n",
    "steps = [2, 4,  8, 16, 32]\n",
    "for step in steps:\n",
    "    maxs = np.round(data[['Peso','Altura']].values.max(axis = 0))\n",
    "    mins = np.round(data[['Peso','Altura']].values.min(axis = 0))\n",
    "\n",
    "    joint_hombres = BiVariateJoint(data_hombres, \n",
    "                                   step_X = step, \n",
    "                                   step_Y = step,\n",
    "                                   mins = mins, \n",
    "                                   maxs = maxs\n",
    "                                  )\n",
    "    joint_mujeres = BiVariateJoint(data_mujeres, \n",
    "                                   step_X = step, \n",
    "                                   step_Y = step,\n",
    "                                   mins = mins, \n",
    "                                   maxs = maxs)\n",
    "    p_class_1, p_class_2 = get_class_prob(data['Peso'].values, data['Altura'].values, joint_hombres, joint_mujeres)\n",
    "    acc_train_bayes = ((p_class_1>p_class_2) == (data['Genero'].values == 'Hombre')).sum()/len(data)\n",
    "    train_acc.append(acc_train_bayes)\n",
    "    p_class_1, p_class_2 = get_class_prob(test['Peso'].values, test['Altura'].values, joint_hombres, joint_mujeres)\n",
    "    acc_cv_bayes = ((p_class_1>p_class_2) == (test['Genero'].values == 'Hombre')).sum()/len(test)\n",
    "    test_acc.append(acc_cv_bayes)"
   ]
  },
  {
   "cell_type": "code",
   "execution_count": 11,
   "metadata": {},
   "outputs": [],
   "source": [
    "%matplotlib qt\n",
    "plt.xscale('log')\n",
    "plt.plot(steps, train_acc, label='Train', marker='x')\n",
    "plt.plot(steps, test_acc, label='CV', marker='x')\n",
    "plt.xticks(steps, steps)\n",
    "plt.xlabel('Resolución Peso/Altura')\n",
    "plt.ylabel('Accuracy')\n",
    "plt.legend()\n",
    "plt.show()"
   ]
  },
  {
   "cell_type": "code",
   "execution_count": null,
   "metadata": {},
   "outputs": [],
   "source": []
  }
 ],
 "metadata": {
  "kernelspec": {
   "display_name": "Python 3",
   "language": "python",
   "name": "python3"
  },
  "language_info": {
   "codemirror_mode": {
    "name": "ipython",
    "version": 3
   },
   "file_extension": ".py",
   "mimetype": "text/x-python",
   "name": "python",
   "nbconvert_exporter": "python",
   "pygments_lexer": "ipython3",
   "version": "3.6.6"
  }
 },
 "nbformat": 4,
 "nbformat_minor": 2
}
