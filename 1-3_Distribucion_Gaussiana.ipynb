{
 "cells": [
  {
   "cell_type": "markdown",
   "metadata": {},
   "source": [
    "# Distribución Gaussiana"
   ]
  },
  {
   "cell_type": "markdown",
   "metadata": {},
   "source": [
    "## Importamos librerías"
   ]
  },
  {
   "cell_type": "code",
   "execution_count": 102,
   "metadata": {},
   "outputs": [],
   "source": [
    "import numpy as np\n",
    "from probability_helper import plot_normalized_histogram_sorted\n",
    "from matplotlib import pyplot as plt"
   ]
  },
  {
   "cell_type": "markdown",
   "metadata": {},
   "source": [
    "## Cargamos datos y graficamos"
   ]
  },
  {
   "cell_type": "code",
   "execution_count": 103,
   "metadata": {},
   "outputs": [],
   "source": [
    "gran_danes_pesos = np.load('data/gran_danes_pesos.npy')"
   ]
  },
  {
   "cell_type": "code",
   "execution_count": 104,
   "metadata": {},
   "outputs": [
    {
     "data": {
      "text/plain": [
       "1000"
      ]
     },
     "execution_count": 104,
     "metadata": {},
     "output_type": "execute_result"
    }
   ],
   "source": [
    "len(gran_danes_pesos)"
   ]
  },
  {
   "cell_type": "code",
   "execution_count": 264,
   "metadata": {},
   "outputs": [
    {
     "data": {
      "image/png": "[encoded data removed]",
      "text/plain": [
       "<matplotlib.figure.Figure at 0x11b2554e0>"
      ]
     },
     "metadata": {},
     "output_type": "display_data"
    }
   ],
   "source": [
    "espacio_muestral_1, probs_gran_danes_pesos_1 = plot_normalized_histogram_sorted(gran_danes_pesos)"
   ]
  },
  {
   "cell_type": "code",
   "execution_count": 265,
   "metadata": {},
   "outputs": [
    {
     "name": "stdout",
     "output_type": "stream",
     "text": [
      "852 [ 37.67  38.02  38.56  39.67  40.74  40.78  40.82  41.54  41.62  41.68]\n"
     ]
    }
   ],
   "source": [
    "print(len(espacio_muestral_1), espacio_muestral_1[:10])"
   ]
  },
  {
   "cell_type": "markdown",
   "metadata": {},
   "source": [
    "### Cuantos bins tiene nuestro histograma?\n",
    "852, casi tantos como mediciones de pesos tengo (1000)"
   ]
  },
  {
   "cell_type": "markdown",
   "metadata": {},
   "source": [
    "### Cuantas mediciones caen en cada bin?\n",
    "En algunos 1, en otros 2, 3, y en uno solo 4\n",
    "\n",
    "Claramente no son suficientes mediciones de peso por bin"
   ]
  },
  {
   "cell_type": "code",
   "execution_count": 81,
   "metadata": {},
   "outputs": [
    {
     "name": "stdout",
     "output_type": "stream",
     "text": [
      "[ 0.001  0.001  0.001  0.001  0.001  0.001  0.001  0.001  0.001  0.001]\n"
     ]
    }
   ],
   "source": [
    "print(probs_gran_danes_pesos_1[:10])"
   ]
  },
  {
   "cell_type": "markdown",
   "metadata": {},
   "source": [
    "### Es una buena estimación de la probabilidad este histograma normalizado?\n",
    "- El peso ahora es una V.A continua. Por lo que desde un punto teorico podria tomar infinitos puntos entre dos numeros enteros. \n",
    "- Desde un punto de vista práctico la presición de la medición fue de la centésima\n",
    "- La mayoria de las probabilidades estimadas es de 0.001 (1/1000), es decir, una medición de ese peso particular dentro de los 1000"
   ]
  },
  {
   "cell_type": "markdown",
   "metadata": {},
   "source": [
    "## Modelo de Histograma 1:\n",
    "Redondeamos al entero más proximo"
   ]
  },
  {
   "cell_type": "markdown",
   "metadata": {},
   "source": [
    "### Graficamos"
   ]
  },
  {
   "cell_type": "code",
   "execution_count": 178,
   "metadata": {},
   "outputs": [
    {
     "data": {
      "image/png": "[encoded data removed]",
      "text/plain": [
       "<matplotlib.figure.Figure at 0x11aa68400>"
      ]
     },
     "metadata": {},
     "output_type": "display_data"
    }
   ],
   "source": [
    "gran_danes_pesos_rounded = np.round(gran_danes_pesos)\n",
    "espacio_muestral_2, probs_gran_danes_pesos_2 = plot_normalized_histogram_sorted(gran_danes_pesos_rounded)"
   ]
  },
  {
   "cell_type": "code",
   "execution_count": 205,
   "metadata": {},
   "outputs": [
    {
     "name": "stdout",
     "output_type": "stream",
     "text": [
      "[ 38.  39.  40.  41.  42.  43.  44.  45.  46.  47.  48.  49.  50.  51.  52.\n",
      "  53.  54.  55.  56.  57.  58.  59.  60.  61.  62.  63.  64.  65.  66.  67.\n",
      "  68.  69.  70.  71.  72.  73.  74.  75.  76.  77.  78.  79.  80.  81.  82.\n",
      "  83.  84.  85.  86.  87.  88.  89.  91.  92.  93.]\n",
      "[ 0.002  0.001  0.001  0.003  0.006  0.002  0.004  0.004  0.01   0.009\n",
      "  0.012  0.007  0.019  0.014  0.022  0.019  0.021  0.024  0.03   0.038\n",
      "  0.031  0.032  0.052  0.038  0.048  0.022  0.039  0.046  0.054  0.062\n",
      "  0.041  0.03   0.033  0.035  0.023  0.022  0.024  0.018  0.014  0.024\n",
      "  0.009  0.012  0.01   0.008  0.008  0.003  0.002  0.003  0.002  0.001\n",
      "  0.002  0.001  0.001  0.001  0.001]\n",
      "55 18.181818181818183\n"
     ]
    }
   ],
   "source": [
    "print(espacio_muestral_2)\n",
    "print(probs_gran_danes_pesos_2)\n",
    "print(len(espacio_muestral_2), 1000/len(espacio_muestral_2))"
   ]
  },
  {
   "cell_type": "markdown",
   "metadata": {},
   "source": [
    "### Cuantos bins tengo?\n",
    "55, en promedio tengo casi 19 mediciones de pesos por bin (Aunque por ejemplo la que mas tiene esta en el orden de 60)"
   ]
  },
  {
   "cell_type": "markdown",
   "metadata": {},
   "source": [
    "### Modelo"
   ]
  },
  {
   "cell_type": "code",
   "execution_count": 196,
   "metadata": {},
   "outputs": [
    {
     "data": {
      "text/plain": [
       "(55, 55)"
      ]
     },
     "execution_count": 196,
     "metadata": {},
     "output_type": "execute_result"
    }
   ],
   "source": [
    "len(espacio_muestral_2), len(probs_gran_danes_pesos_2)"
   ]
  },
  {
   "cell_type": "markdown",
   "metadata": {},
   "source": [
    "**Tipo de modelo**: De histograma  \n",
    "**Cantidad de parámetros estimados**: 55  \n",
    "**Espacio muestral**: Todos los enteros desde 38 hasta 93"
   ]
  },
  {
   "cell_type": "code",
   "execution_count": 137,
   "metadata": {},
   "outputs": [
    {
     "name": "stdout",
     "output_type": "stream",
     "text": [
      "[ 0.002  0.001  0.001  0.003  0.006  0.002  0.004  0.004  0.01   0.009\n",
      "  0.012  0.007  0.019  0.014  0.022  0.019  0.021  0.024  0.03   0.038\n",
      "  0.031  0.032  0.052  0.038  0.048  0.022  0.039  0.046  0.054  0.062\n",
      "  0.041  0.03   0.033  0.035  0.023  0.022  0.024  0.018  0.014  0.024\n",
      "  0.009  0.012  0.01   0.008  0.008  0.003  0.002  0.003  0.002  0.001\n",
      "  0.002  0.001  0.001  0.001  0.001]\n"
     ]
    }
   ],
   "source": [
    "print(probs_gran_danes_pesos_2)"
   ]
  },
  {
   "cell_type": "markdown",
   "metadata": {},
   "source": [
    "### Modelo generador:"
   ]
  },
  {
   "cell_type": "code",
   "execution_count": 202,
   "metadata": {},
   "outputs": [
    {
     "data": {
      "text/plain": [
       "array([ 68.,  68.,  55., ...,  76.,  50.,  61.])"
      ]
     },
     "execution_count": 202,
     "metadata": {},
     "output_type": "execute_result"
    }
   ],
   "source": [
    "np.random.choice(espacio_muestral_2,  size = 6000, p = probs_gran_danes_pesos_2, replace=True)"
   ]
  },
  {
   "cell_type": "markdown",
   "metadata": {},
   "source": [
    "## Modelo de Histograma 2:\n",
    "Redondeo al **entero par** mas cercano"
   ]
  },
  {
   "cell_type": "code",
   "execution_count": 197,
   "metadata": {},
   "outputs": [],
   "source": [
    "pesos_por_2kg = np.round(gran_danes_pesos/2)*2"
   ]
  },
  {
   "cell_type": "code",
   "execution_count": 198,
   "metadata": {},
   "outputs": [
    {
     "data": {
      "image/png": "[encoded data removed]",
      "text/plain": [
       "<matplotlib.figure.Figure at 0x1183fb6d8>"
      ]
     },
     "metadata": {},
     "output_type": "display_data"
    }
   ],
   "source": [
    "espacio_muestral_3, probs_gran_danes_pesos_3 = plot_normalized_histogram_sorted(pesos_por_2kg)"
   ]
  },
  {
   "cell_type": "code",
   "execution_count": 206,
   "metadata": {},
   "outputs": [
    {
     "name": "stdout",
     "output_type": "stream",
     "text": [
      "[ 38.  40.  42.  44.  46.  48.  50.  52.  54.  56.  58.  60.  62.  64.  66.\n",
      "  68.  70.  72.  74.  76.  78.  80.  82.  84.  86.  88.  90.  92.  94.]\n",
      "[ 0.003  0.004  0.007  0.009  0.012  0.023  0.029  0.042  0.034  0.067\n",
      "  0.062  0.093  0.074  0.078  0.103  0.085  0.071  0.047  0.046  0.032\n",
      "  0.03   0.022  0.01   0.006  0.004  0.003  0.001  0.002  0.001]\n",
      "29 34.48275862068966\n"
     ]
    }
   ],
   "source": [
    "print(espacio_muestral_3)\n",
    "print(probs_gran_danes_pesos_3)\n",
    "print(len(espacio_muestral_3), 1000/len(espacio_muestral_3))"
   ]
  },
  {
   "cell_type": "markdown",
   "metadata": {},
   "source": [
    "### Cuantos bins tengo?"
   ]
  },
  {
   "cell_type": "markdown",
   "metadata": {},
   "source": [
    "29, en promedio cerca de 35 mediciones de pesos por bin"
   ]
  },
  {
   "cell_type": "markdown",
   "metadata": {},
   "source": [
    "### Modelo"
   ]
  },
  {
   "cell_type": "markdown",
   "metadata": {},
   "source": [
    "**Tipo de modelo**: De histograma  \n",
    "**Cantidad de parámetros estimados**: 29  \n",
    "**Espacio muestral**: Todos los pares desde 38 hasta 94"
   ]
  },
  {
   "cell_type": "markdown",
   "metadata": {},
   "source": [
    "Reducimos la cantidad de parametros a casi la mitad pero nuestro modelo solo genera la mitad de nuestro espacio muestral, es decir, perdemos resolución en el peso"
   ]
  },
  {
   "cell_type": "markdown",
   "metadata": {},
   "source": [
    "## Histogramas como densidades"
   ]
  },
  {
   "cell_type": "code",
   "execution_count": 354,
   "metadata": {},
   "outputs": [
    {
     "data": {
      "image/png": "[encoded data removed]",
      "text/plain": [
       "<matplotlib.figure.Figure at 0x11b2e59b0>"
      ]
     },
     "metadata": {},
     "output_type": "display_data"
    }
   ],
   "source": [
    "plt.figure(figsize=(20,10))\n",
    "plt.bar(espacio_muestral_2, probs_gran_danes_pesos_2, color = 'r')\n",
    "plt.bar(espacio_muestral_3, probs_gran_danes_pesos_3, color = 'y', alpha=0.8)\n",
    "plt.show()"
   ]
  },
  {
   "cell_type": "markdown",
   "metadata": {},
   "source": [
    "Se puede ver que el amarillo en promedio tiene el doble de altura que el rojo.\n",
    "Por que?\n",
    "- Por ejemplo, la barra en la posición 60 indicaría la probabilidad de que el peso este entre 59.5 y 61.5 para el amarillo, mientras que en el rojo indicaría la probabiliad de que el peso este entre 59.5 y 60.5"
   ]
  },
  {
   "cell_type": "markdown",
   "metadata": {},
   "source": [
    "Para poder compararlos podemos graficar la probabilidad por unidad de peso"
   ]
  },
  {
   "cell_type": "code",
   "execution_count": 355,
   "metadata": {},
   "outputs": [
    {
     "data": {
      "image/png": "[encoded data removed]",
      "text/plain": [
       "<matplotlib.figure.Figure at 0x11c1e8ba8>"
      ]
     },
     "metadata": {},
     "output_type": "display_data"
    }
   ],
   "source": [
    "# Notar que dividimos probs_gran_danes_pesos_3 por 2\n",
    "plt.figure(figsize=(20,10))\n",
    "plt.bar(espacio_muestral_2, probs_gran_danes_pesos_2, color = 'r')\n",
    "plt.bar(espacio_muestral_3, probs_gran_danes_pesos_3/2, color = 'y', alpha=0.8)\n",
    "plt.show()"
   ]
  },
  {
   "cell_type": "markdown",
   "metadata": {},
   "source": [
    "## Modelo Gaussiano"
   ]
  },
  {
   "cell_type": "code",
   "execution_count": 185,
   "metadata": {},
   "outputs": [],
   "source": [
    "from scipy.stats import norm"
   ]
  },
  {
   "cell_type": "markdown",
   "metadata": {},
   "source": [
    "### Estimamos media y desvio estandar"
   ]
  },
  {
   "cell_type": "code",
   "execution_count": 186,
   "metadata": {},
   "outputs": [
    {
     "name": "stdout",
     "output_type": "stream",
     "text": [
      "63.74477 9.16424628363\n"
     ]
    }
   ],
   "source": [
    "media_pesos = gran_danes_pesos.mean()\n",
    "std_pesos = gran_danes_pesos.std()\n",
    "print(media_pesos, std_pesos)"
   ]
  },
  {
   "cell_type": "markdown",
   "metadata": {},
   "source": [
    "### PDF (Función de densidad de probabiliad Gaussiana)"
   ]
  },
  {
   "cell_type": "code",
   "execution_count": 284,
   "metadata": {},
   "outputs": [],
   "source": [
    "rango_pesos = np.linspace(espacio_muestral_2[0], espacio_muestral_2[-1], 100)\n",
    "pdf_pesos = norm.pdf(rango_pesos, media_pesos, std_pesos)"
   ]
  },
  {
   "cell_type": "code",
   "execution_count": 285,
   "metadata": {},
   "outputs": [
    {
     "data": {
      "image/png": "[encoded data removed]",
      "text/plain": [
       "<matplotlib.figure.Figure at 0x11bbf85f8>"
      ]
     },
     "metadata": {},
     "output_type": "display_data"
    }
   ],
   "source": [
    "plt.plot(rango_pesos, pdf_pesos, color='r')\n",
    "plt.show()"
   ]
  },
  {
   "cell_type": "markdown",
   "metadata": {},
   "source": [
    "### Comparado contra nuestro primer histograma"
   ]
  },
  {
   "cell_type": "code",
   "execution_count": 286,
   "metadata": {},
   "outputs": [
    {
     "data": {
      "image/png": "[encoded data removed]",
      "text/plain": [
       "<matplotlib.figure.Figure at 0x11be9d4a8>"
      ]
     },
     "metadata": {},
     "output_type": "display_data"
    }
   ],
   "source": [
    "plt.plot(rango_pesos, pdf_pesos, color='r')\n",
    "plt.bar(espacio_muestral_2, probs_gran_danes_pesos_2, color='y')\n",
    "plt.show()"
   ]
  },
  {
   "cell_type": "markdown",
   "metadata": {},
   "source": [
    "### Comparado contra nuestro segundo histograma"
   ]
  },
  {
   "cell_type": "code",
   "execution_count": 287,
   "metadata": {},
   "outputs": [
    {
     "data": {
      "image/png": "[encoded data removed]",
      "text/plain": [
       "<matplotlib.figure.Figure at 0x11c08eb38>"
      ]
     },
     "metadata": {},
     "output_type": "display_data"
    }
   ],
   "source": [
    "plt.plot(rango_pesos, pdf_pesos, color='r')\n",
    "plt.bar(espacio_muestral_3, probs_gran_danes_pesos_3/2, color='y')\n",
    "plt.show()"
   ]
  },
  {
   "cell_type": "markdown",
   "metadata": {},
   "source": [
    "Por que dividimos por 2?\n",
    "\n",
    "La distribución Gaussiana es continua mientras que nuestros histogramas son discretos.\n",
    "\n",
    "Las distribuciones continuas miden densidad de probabildad, es decir, probabilidad por unidad de peso en este caso.\n",
    "\n",
    "En el ejemplo, el segundo histograma esta midiendo la probabilidad en 2Kg, por eso dividimos por 2"
   ]
  },
  {
   "cell_type": "markdown",
   "metadata": {},
   "source": [
    "### Modelo"
   ]
  },
  {
   "cell_type": "markdown",
   "metadata": {},
   "source": [
    "**Tipo de modelo**: Gaussiano  \n",
    "**Cantidad de parámetros estimados**: 2 (Media y Desvio)  \n",
    "**Espacio muestral**: Continuo"
   ]
  },
  {
   "cell_type": "markdown",
   "metadata": {},
   "source": [
    "### Métodos estadísticos paramétricos vs no paramétricos\n",
    "Se suele hacer esta distinción en estadistica refiriendose a paramétricos cuando podemos represeantar una distribución con parámetros, como por ejemplo la media y la varianza\n",
    "- El histograma es una representación no paramétrica de la estimación de la distribución de probabilidad\n",
    "- Existen otras formas como KDE (Kernel Density Estimation)"
   ]
  },
  {
   "cell_type": "markdown",
   "metadata": {},
   "source": [
    "### Modelo generador Gaussiano:"
   ]
  },
  {
   "cell_type": "code",
   "execution_count": 288,
   "metadata": {},
   "outputs": [
    {
     "name": "stdout",
     "output_type": "stream",
     "text": [
      "63.74477 9.16424628363\n"
     ]
    }
   ],
   "source": [
    "print(media_pesos, std_pesos)"
   ]
  },
  {
   "cell_type": "code",
   "execution_count": 289,
   "metadata": {},
   "outputs": [
    {
     "data": {
      "text/plain": [
       "array([ 74.94622431,  61.54544236,  52.38189204,  63.05376695,\n",
       "        76.84514131,  65.17920996,  61.19613968,  63.70316767,\n",
       "        70.23664114,  63.22534512])"
      ]
     },
     "execution_count": 289,
     "metadata": {},
     "output_type": "execute_result"
    }
   ],
   "source": [
    "N = 10\n",
    "np.random.normal(63.74477, 9.16424628363, N)"
   ]
  },
  {
   "cell_type": "markdown",
   "metadata": {},
   "source": [
    "### Lo comparamos con el de Histograma"
   ]
  },
  {
   "cell_type": "code",
   "execution_count": 290,
   "metadata": {},
   "outputs": [
    {
     "data": {
      "text/plain": [
       "array([ 74.,  60.,  65., ...,  71.,  80.,  60.])"
      ]
     },
     "execution_count": 290,
     "metadata": {},
     "output_type": "execute_result"
    }
   ],
   "source": [
    "np.random.choice([ 38.,  39.,  40.,  41.,  42.,  43.,  44.,  45.,  46.,  47.,  48.,\n",
    "        49.,  50.,  51.,  52.,  53.,  54.,  55.,  56.,  57.,  58.,  59.,\n",
    "        60.,  61.,  62.,  63.,  64.,  65.,  66.,  67.,  68.,  69.,  70.,\n",
    "        71.,  72.,  73.,  74.,  75.,  76.,  77.,  78.,  79.,  80.,  81.,\n",
    "        82.,  83.,  84.,  85.,  86.,  87.,  88.,  89.,  91.,  92.,  93.],  \n",
    "                 size = 6000, \n",
    "                 p = [ 0.002,  0.001,  0.001,  0.003,  0.006,  0.002,  0.004,  0.004,\n",
    "        0.01 ,  0.009,  0.012,  0.007,  0.019,  0.014,  0.022,  0.019,\n",
    "        0.021,  0.024,  0.03 ,  0.038,  0.031,  0.032,  0.052,  0.038,\n",
    "        0.048,  0.022,  0.039,  0.046,  0.054,  0.062,  0.041,  0.03 ,\n",
    "        0.033,  0.035,  0.023,  0.022,  0.024,  0.018,  0.014,  0.024,\n",
    "        0.009,  0.012,  0.01 ,  0.008,  0.008,  0.003,  0.002,  0.003,\n",
    "        0.002,  0.001,  0.002,  0.001,  0.001,  0.001,  0.001], \n",
    "                 replace=True)"
   ]
  },
  {
   "cell_type": "markdown",
   "metadata": {},
   "source": [
    "## Ventajas del modelo Gaussiano:\n",
    "- Reduzco la cantidad de parámetros\n",
    "- Generalización\n",
    "- Espacio muestral continuo en contraposición con el discreto de los histogramas\n",
    "- Teorema central del límite"
   ]
  },
  {
   "cell_type": "markdown",
   "metadata": {},
   "source": [
    "Es mas preciso el modelo Gaussiano o el de histograma?\n",
    "\n",
    "Que significa preciso? La precisión puede ser el enemigo"
   ]
  }
 ],
 "metadata": {
  "kernelspec": {
   "display_name": "Python 3",
   "language": "python",
   "name": "python3"
  },
  "language_info": {
   "codemirror_mode": {
    "name": "ipython",
    "version": 3
   },
   "file_extension": ".py",
   "mimetype": "text/x-python",
   "name": "python",
   "nbconvert_exporter": "python",
   "pygments_lexer": "ipython3",
   "version": "3.6.2"
  }
 },
 "nbformat": 4,
 "nbformat_minor": 2
}
